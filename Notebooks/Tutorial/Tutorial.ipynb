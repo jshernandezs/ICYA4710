{
 "cells": [
  {
   "cell_type": "code",
   "execution_count": 2,
   "id": "ebc71213-fbf7-4d84-8303-144de0ef1949",
   "metadata": {
    "tags": []
   },
   "outputs": [
    {
     "data": {
      "text/plain": [
       "float"
      ]
     },
     "execution_count": 2,
     "metadata": {},
     "output_type": "execute_result"
    }
   ],
   "source": [
    "x = 1.5\n",
    "type(x)"
   ]
  },
  {
   "cell_type": "code",
   "execution_count": 9,
   "id": "0eceaad6-e078-4dc8-bd0a-a8c1bfee43bd",
   "metadata": {
    "tags": []
   },
   "outputs": [
    {
     "data": {
      "text/plain": [
       "int"
      ]
     },
     "execution_count": 9,
     "metadata": {},
     "output_type": "execute_result"
    }
   ],
   "source": [
    "y = 1\n",
    "type(y)"
   ]
  },
  {
   "cell_type": "code",
   "execution_count": 10,
   "id": "7e776b0e-89af-4476-af50-c07494e445f0",
   "metadata": {
    "tags": []
   },
   "outputs": [
    {
     "data": {
      "text/plain": [
       "str"
      ]
     },
     "execution_count": 10,
     "metadata": {},
     "output_type": "execute_result"
    }
   ],
   "source": [
    "z = 'palabra'\n",
    "type(z)"
   ]
  },
  {
   "cell_type": "code",
   "execution_count": 11,
   "id": "ef511806-492f-4f19-8e8a-c2ba507024ac",
   "metadata": {
    "tags": []
   },
   "outputs": [
    {
     "data": {
      "text/plain": [
       "bool"
      ]
     },
     "execution_count": 11,
     "metadata": {},
     "output_type": "execute_result"
    }
   ],
   "source": [
    "u = False\n",
    "type(u)"
   ]
  },
  {
   "cell_type": "code",
   "execution_count": 12,
   "id": "21c65012-a5ac-454a-a67e-9ef0aac5a1b3",
   "metadata": {
    "tags": []
   },
   "outputs": [
    {
     "name": "stdout",
     "output_type": "stream",
     "text": [
      "Mi nombre es Sebastian\n"
     ]
    }
   ],
   "source": [
    "a = \"Mi nombre es \"\n",
    "b = \"Sebastian\"\n",
    "c = a + b\n",
    "print(c)"
   ]
  },
  {
   "cell_type": "code",
   "execution_count": 16,
   "id": "29f8f8c9-2cd8-46f4-a07f-1893dc86ee36",
   "metadata": {
    "tags": []
   },
   "outputs": [
    {
     "name": "stdout",
     "output_type": "stream",
     "text": [
      "El número es 2.554 y Hola\n"
     ]
    }
   ],
   "source": [
    "x = 2.5544789654123\n",
    "y = 'Hola'\n",
    "s = f'El número es {x:4.3f} y {y}'\n",
    "print(s)"
   ]
  },
  {
   "cell_type": "code",
   "execution_count": 17,
   "id": "842f363d-e733-458e-8075-499661ab870d",
   "metadata": {
    "tags": []
   },
   "outputs": [
    {
     "name": "stdout",
     "output_type": "stream",
     "text": [
      "2.25\n"
     ]
    }
   ],
   "source": [
    "x = 1.5\n",
    "y = 2\n",
    "z = x ** y\n",
    "print(z)"
   ]
  },
  {
   "cell_type": "code",
   "execution_count": 18,
   "id": "aab496b7-4331-461a-b5cc-c60ebc3233ab",
   "metadata": {
    "tags": []
   },
   "outputs": [
    {
     "data": {
      "text/plain": [
       "list"
      ]
     },
     "execution_count": 18,
     "metadata": {},
     "output_type": "execute_result"
    }
   ],
   "source": [
    "lista = [1, 3, 'Hola', True, False, [1, 34.5], (3, 4)]\n",
    "type(lista)"
   ]
  },
  {
   "cell_type": "code",
   "execution_count": 19,
   "id": "25bf1bda-516f-4b0d-9948-c81b6268d02e",
   "metadata": {
    "tags": []
   },
   "outputs": [
    {
     "data": {
      "text/plain": [
       "1"
      ]
     },
     "execution_count": 19,
     "metadata": {},
     "output_type": "execute_result"
    }
   ],
   "source": [
    "lista[0]"
   ]
  },
  {
   "cell_type": "code",
   "execution_count": 22,
   "id": "c459cb37-7758-475e-969f-9b5870a9713e",
   "metadata": {
    "tags": []
   },
   "outputs": [
    {
     "data": {
      "text/plain": [
       "1"
      ]
     },
     "execution_count": 22,
     "metadata": {},
     "output_type": "execute_result"
    }
   ],
   "source": [
    "lista[-2][0]"
   ]
  },
  {
   "cell_type": "code",
   "execution_count": 23,
   "id": "2b3ac452-7f95-4961-b512-00b9ac780dd4",
   "metadata": {
    "tags": []
   },
   "outputs": [
    {
     "name": "stdout",
     "output_type": "stream",
     "text": [
      "[1, 3, 'Adiós', True, False, [1, 34.5], (3, 4)]\n"
     ]
    }
   ],
   "source": [
    "lista[2] = 'Adiós'\n",
    "print(lista)"
   ]
  },
  {
   "cell_type": "code",
   "execution_count": 25,
   "id": "1af1f037-5a34-4c12-97f8-f10d7552fac3",
   "metadata": {
    "tags": []
   },
   "outputs": [
    {
     "name": "stdout",
     "output_type": "stream",
     "text": [
      "[1, 3, 'Adiós', 3.14, False, [1, 34.5], (3, 4)]\n"
     ]
    }
   ],
   "source": [
    "lista2 = lista\n",
    "lista2[3] = 3.14\n",
    "print(lista2)"
   ]
  },
  {
   "cell_type": "code",
   "execution_count": 26,
   "id": "c7685890-9902-4adf-abab-ac5d3bd10653",
   "metadata": {
    "tags": []
   },
   "outputs": [
    {
     "name": "stdout",
     "output_type": "stream",
     "text": [
      "[1, 3, 'Adiós', 3.14, False, [1, 34.5], (3, 4)]\n"
     ]
    }
   ],
   "source": [
    "print(lista)"
   ]
  },
  {
   "cell_type": "code",
   "execution_count": 27,
   "id": "acbc41f1-ba69-407d-b7ba-ca11d386a777",
   "metadata": {
    "tags": []
   },
   "outputs": [],
   "source": [
    "lista3 = lista.copy()"
   ]
  },
  {
   "cell_type": "code",
   "execution_count": 28,
   "id": "32d2cbb3-116d-4365-9148-abda0fc633df",
   "metadata": {
    "tags": []
   },
   "outputs": [
    {
     "name": "stdout",
     "output_type": "stream",
     "text": [
      "[1, 3, 'Adiós', 3.14, False, [1, 34.5], (3, 4)]\n"
     ]
    }
   ],
   "source": [
    "print(lista3)"
   ]
  },
  {
   "cell_type": "code",
   "execution_count": 29,
   "id": "4f6cbd12-c7be-4a8c-bb0d-826978cbe18d",
   "metadata": {
    "tags": []
   },
   "outputs": [
    {
     "name": "stdout",
     "output_type": "stream",
     "text": [
      "[1, 3, 'Adiós', 3.14, False, [1, 34.5], (3, 4)]\n"
     ]
    }
   ],
   "source": [
    "lista3[1] = 300000\n",
    "print(lista)"
   ]
  },
  {
   "cell_type": "code",
   "execution_count": 30,
   "id": "8ac6b304-ae24-4566-b334-ff1664753a25",
   "metadata": {
    "tags": []
   },
   "outputs": [],
   "source": [
    "import copy as cp"
   ]
  },
  {
   "cell_type": "code",
   "execution_count": 31,
   "id": "4de10193-8fc2-4574-863a-35cef8a9d0c7",
   "metadata": {
    "tags": []
   },
   "outputs": [],
   "source": [
    "lista4 = cp.deepcopy(lista3)"
   ]
  },
  {
   "cell_type": "code",
   "execution_count": 33,
   "id": "55dbcaa9-92cd-4a8f-b63f-601729ce5e86",
   "metadata": {
    "tags": []
   },
   "outputs": [
    {
     "name": "stdout",
     "output_type": "stream",
     "text": [
      "4\n"
     ]
    }
   ],
   "source": [
    "x = 4\n",
    "y = x\n",
    "y = 2\n",
    "print(x)"
   ]
  },
  {
   "cell_type": "code",
   "execution_count": 36,
   "id": "0729e939-5e7a-4696-b19f-5a5bc3cafc04",
   "metadata": {
    "tags": []
   },
   "outputs": [
    {
     "data": {
      "text/plain": [
       "['Adiós', 3.14, False]"
      ]
     },
     "execution_count": 36,
     "metadata": {},
     "output_type": "execute_result"
    }
   ],
   "source": [
    "lista5 = lista4[2:5]\n",
    "lista5"
   ]
  },
  {
   "cell_type": "code",
   "execution_count": 40,
   "id": "7cd7c7dc-e5f0-4023-a789-06a6c2d36eb1",
   "metadata": {
    "tags": []
   },
   "outputs": [
    {
     "name": "stdout",
     "output_type": "stream",
     "text": [
      "['Adiós', 3.14, False, [1, 34.5], (3, 4)]\n"
     ]
    }
   ],
   "source": [
    "lista6= lista4[2:]\n",
    "print(lista6)"
   ]
  },
  {
   "cell_type": "code",
   "execution_count": 41,
   "id": "b9317e2b-ce8c-43f3-817d-83e796ec78f4",
   "metadata": {
    "tags": []
   },
   "outputs": [
    {
     "data": {
      "text/plain": [
       "[1, 4, True, 45.5, 23, 45, 'Manzana']"
      ]
     },
     "execution_count": 41,
     "metadata": {},
     "output_type": "execute_result"
    }
   ],
   "source": [
    "lista_a = [1, 4, True, 45.5]\n",
    "lista_b = [23, 45, 'Manzana']\n",
    "lista_c = lista_a + lista_b\n",
    "lista_c"
   ]
  },
  {
   "cell_type": "code",
   "execution_count": 44,
   "id": "7c3b3240-fc13-4640-890a-0c19f9169912",
   "metadata": {
    "tags": []
   },
   "outputs": [
    {
     "name": "stdout",
     "output_type": "stream",
     "text": [
      "[8, 10, 12, 14, 16, 18]\n"
     ]
    }
   ],
   "source": [
    "x = [1,2,3,4,5,6]\n",
    "y = [7,8,9,10,11,12]\n",
    "\n",
    "z = []\n",
    "for x_i, y_i in zip(x,y):\n",
    "    z_i = x_i + y_i\n",
    "    z = z + [z_i]\n",
    "    \n",
    "print(z)"
   ]
  },
  {
   "cell_type": "code",
   "execution_count": 46,
   "id": "ae2b6bcb-9cc9-49c8-929f-60025a74b7b2",
   "metadata": {
    "tags": []
   },
   "outputs": [
    {
     "name": "stdout",
     "output_type": "stream",
     "text": [
      "[8, 10, 12, 14, 16, 18]\n"
     ]
    }
   ],
   "source": [
    "z2 = [i + j for i,j in zip(x,y)]\n",
    "print(z2)"
   ]
  },
  {
   "cell_type": "code",
   "execution_count": 48,
   "id": "adc4ce00-cc38-4f53-aabe-2cc8dd85d9c9",
   "metadata": {
    "tags": []
   },
   "outputs": [
    {
     "name": "stdout",
     "output_type": "stream",
     "text": [
      "[ 8 10 12 14 16 18]\n"
     ]
    },
    {
     "data": {
      "text/plain": [
       "numpy.ndarray"
      ]
     },
     "execution_count": 48,
     "metadata": {},
     "output_type": "execute_result"
    }
   ],
   "source": [
    "import numpy as np\n",
    "x2 = np.array(x)\n",
    "y2 = np.array(y)\n",
    "z3 = x2 + y2\n",
    "print(z3)\n",
    "type(z3)"
   ]
  },
  {
   "cell_type": "code",
   "execution_count": 50,
   "id": "ebe6418a-888f-48fa-9bdb-4dfaef146ff4",
   "metadata": {
    "tags": []
   },
   "outputs": [
    {
     "data": {
      "text/plain": [
       "[8, 10, 12, 14, 16, 18]"
      ]
     },
     "execution_count": 50,
     "metadata": {},
     "output_type": "execute_result"
    }
   ],
   "source": [
    "z4=z3.tolist()\n",
    "z4"
   ]
  },
  {
   "cell_type": "code",
   "execution_count": 53,
   "id": "d3074a4b-bcd8-4c64-9c4c-5c12fdc6d7a3",
   "metadata": {
    "tags": []
   },
   "outputs": [
    {
     "name": "stdout",
     "output_type": "stream",
     "text": [
      "[8, 10, 14, 18]\n"
     ]
    }
   ],
   "source": [
    "x = [1,2,-3,4,5,6]\n",
    "y = [7,8,9,10,-11,12]\n",
    "\n",
    "z = [i + j for i,j in zip(x,y) if (i > 0 and j > 0)]\n",
    "print(z)"
   ]
  },
  {
   "cell_type": "code",
   "execution_count": 55,
   "id": "f8940774-0639-472a-87a1-940f21dec358",
   "metadata": {
    "tags": []
   },
   "outputs": [
    {
     "data": {
      "text/plain": [
       "[8, 10, 'Error', 14, 'Error', 18]"
      ]
     },
     "execution_count": 55,
     "metadata": {},
     "output_type": "execute_result"
    }
   ],
   "source": [
    "z2 = [i + j if (i > 0 and j > 0) else 'Error' for i,j in zip(x,y)]\n",
    "z2"
   ]
  },
  {
   "cell_type": "code",
   "execution_count": 68,
   "id": "397f79e6-3e4e-4949-bb9f-6118ec00f71c",
   "metadata": {
    "tags": []
   },
   "outputs": [
    {
     "data": {
      "text/plain": [
       "{'Andrea': [35, 60], 'Rodrigo': [24, 90], 'Ramón': [57, 50]}"
      ]
     },
     "execution_count": 68,
     "metadata": {},
     "output_type": "execute_result"
    }
   ],
   "source": [
    "dict1 = {'Andrea':[35, 60], \n",
    "         'Rodrigo':[24, 90], \n",
    "         'Ramón':[57, 50]}\n",
    "dict1"
   ]
  },
  {
   "cell_type": "code",
   "execution_count": 58,
   "id": "179c08ef-3144-4826-b99b-41385d70d488",
   "metadata": {
    "tags": []
   },
   "outputs": [
    {
     "data": {
      "text/plain": [
       "35"
      ]
     },
     "execution_count": 58,
     "metadata": {},
     "output_type": "execute_result"
    }
   ],
   "source": [
    "dict1['Andrea'][0]"
   ]
  },
  {
   "cell_type": "code",
   "execution_count": 59,
   "id": "a90c6a35-2ae3-43c9-a2fd-da546341d704",
   "metadata": {
    "tags": []
   },
   "outputs": [
    {
     "data": {
      "text/plain": [
       "50"
      ]
     },
     "execution_count": 59,
     "metadata": {},
     "output_type": "execute_result"
    }
   ],
   "source": [
    "dict1['Ramón'][1]"
   ]
  },
  {
   "cell_type": "code",
   "execution_count": 60,
   "id": "adc153fb-3e2b-4cef-98f6-ffbd00a31f9c",
   "metadata": {
    "tags": []
   },
   "outputs": [
    {
     "name": "stdout",
     "output_type": "stream",
     "text": [
      "Andrea\n",
      "[35, 60]\n",
      "Rodrigo\n",
      "[24, 90]\n",
      "Ramón\n",
      "[57, 50]\n"
     ]
    }
   ],
   "source": [
    "for k,v in dict1.items():\n",
    "    print(k)\n",
    "    print(v)"
   ]
  },
  {
   "cell_type": "code",
   "execution_count": 62,
   "id": "15fc72e5-2e07-4d30-acec-61ddcd93c792",
   "metadata": {
    "tags": []
   },
   "outputs": [
    {
     "name": "stdout",
     "output_type": "stream",
     "text": [
      "Andrea\n",
      "Rodrigo\n",
      "Ramón\n"
     ]
    }
   ],
   "source": [
    "for k in dict1.keys():\n",
    "    print(k)"
   ]
  },
  {
   "cell_type": "code",
   "execution_count": 63,
   "id": "ae26ce78-06e7-484a-a6e4-ac350b55bcaa",
   "metadata": {
    "tags": []
   },
   "outputs": [
    {
     "name": "stdout",
     "output_type": "stream",
     "text": [
      "[35, 60]\n",
      "[24, 90]\n",
      "[57, 50]\n"
     ]
    }
   ],
   "source": [
    "for v in dict1.values():\n",
    "    print(v)"
   ]
  },
  {
   "cell_type": "code",
   "execution_count": 65,
   "id": "0e1acd7a-9c3e-4449-8634-9ef47fd8fc27",
   "metadata": {
    "tags": []
   },
   "outputs": [
    {
     "name": "stdout",
     "output_type": "stream",
     "text": [
      "[35, 60]\n",
      "[57, 50]\n"
     ]
    }
   ],
   "source": [
    "for k,v in dict1.items():\n",
    "    if k in ['Andrea', 'Ramón']:\n",
    "        print(v)"
   ]
  },
  {
   "cell_type": "code",
   "execution_count": 69,
   "id": "0578ed0d-1bb7-4e0b-92f5-a6a02484a46f",
   "metadata": {
    "tags": []
   },
   "outputs": [
    {
     "data": {
      "text/plain": [
       "{'Pepe': [2, 4, True], 'Lala': [3, 6, False]}"
      ]
     },
     "execution_count": 69,
     "metadata": {},
     "output_type": "execute_result"
    }
   ],
   "source": [
    "dict2 = dict(Pepe=[2,4,True], \n",
    "             Lala=[3,6,False])\n",
    "dict2"
   ]
  }
 ],
 "metadata": {
  "kernelspec": {
   "display_name": "Python 3 (ipykernel)",
   "language": "python",
   "name": "python3"
  },
  "language_info": {
   "codemirror_mode": {
    "name": "ipython",
    "version": 3
   },
   "file_extension": ".py",
   "mimetype": "text/x-python",
   "name": "python",
   "nbconvert_exporter": "python",
   "pygments_lexer": "ipython3",
   "version": "3.9.0"
  }
 },
 "nbformat": 4,
 "nbformat_minor": 5
}
