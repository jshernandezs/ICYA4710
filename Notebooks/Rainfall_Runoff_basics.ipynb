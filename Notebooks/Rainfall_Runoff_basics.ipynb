{
 "cells": [
  {
   "cell_type": "markdown",
   "id": "e31acd33-98ae-425a-9ce7-2f36f428d89a",
   "metadata": {},
   "source": [
    "# Introducción a modelos lluvia - escorrentía\n",
    "\n",
    "Un **modelo lluvia-escorrentía** es un modelo de simulación conceptual agregado aplicado a una cuenca hidrográfica para estimar el hidrograma de respuesta a un evento de tormenta. \n",
    "\n",
    "En este notebook, vamos explorar varios modelos ampliamente utilizados para la estimación de la *precipitación efectiva* (o exceso de precipitación) que luego es transformada en escorrentía y transitada hasta la salida de la cuenca.\n",
    "\n",
    "## Procesos de generación de escorrentía por eventos de tormenta\n",
    "\n",
    "Los mecanismos físicos por los cuales el agua que es producida al nivel de superficie viaja hasta una corriente para generar un hidrograma, se pueden clasificar de la siguiente forma:\n",
    "\n",
    "1. Precipitación sobre el canal<br>\n",
    "2. Flujo superficial (escorrentía superficial)<br>\n",
    "    1. Flujo superficial hortoniano<br>\n",
    "    2. Flujo superficial de saturación (Dunne)<br>\n",
    "3. Flujo subsuperficial<br>\n",
    "    1. Flujo en la zona saturada<br>\n",
    "        1. Flujo desde montículos de agua subterránea cerca a la corriente<br>\n",
    "            1. Desarrollo gradual<br>\n",
    "            2. Desarrollo súbito por presurizacion de la franja capilar<br>\n",
    "        2. Flujo desde zonas saturadas adyacentes<br>\n",
    "            1. Flujo mátrico (Darciano)<br>\n",
    "            2. Flujo en macroporos<br>\n",
    "    2. Flujo en la zona no saturada (no entra directamente a la superficie) <br>\n",
    "        1. Flujo mátrico (Darciano)<br>\n",
    "        2. Flujo en macroporos<br>\n",
    "\n",
    "Por definición, la precipitación efectiva es la precipitación que no se retiene en la superficie terrestre y que tampoco se infiltra en el suelo. Después de fluir a través de la superficie de la cuenca, el exceso de precipitación se convierte en *escorrentía directa* a la salida de la cuenca. El agua que escurre en el suelo deja de infiltrarse porque el suelo se satura 1) desde arriba, cuando la intensidad de la lluvia excede la tasa de infiltración (*flujo superficial hortoniano*), o 2) desde abajo, cuando el nivel freático asciende hasta la superficie (*flujo superficial de saturación*).\n",
    "\n",
    "### Flujo superficial hortoniano\n",
    "\n",
    "Este mecanismo también se conoce como *escorrentía por exceso de infiltración*. El proceso de saturación desde arriba de un suelo inicialmente no saturado se modela como se muestra en la próxima sección. Cuando empieza el ingreso de agua a una tasa mayor a la conductividad hidráulica de la superficie, ocurre infiltración y se genera un frente húmedo que se mueve de forma descendente. Si el ingreso de agua persiste por tiempo suficiente, la superficie del suelo se satura, la infiltración se atenúa, y el agua que se acumula en la superficie empieza a correr pendiente abajo. El instante en el cual la saturación superficial ocurre se conoce como *tiempo de encharcamiento*.\n",
    "\n",
    "***\n",
    "\n",
    "Para que ocurra flujo superficial hortoniano se deben cumplir las siguientes condiciones:\n",
    "\n",
    "1. La tasa de ingreso de agua (lluvia, riego) debe exceder la conductividad hidráulica de la superficie.\n",
    "2. La duración de la tormenta debe exceder el tiempo de encharcamiento.\n",
    "\n",
    "***\n",
    "\n",
    "El flujo hortoniano es aplicable a superficies impermeables en áreas urbanas y a superficies naturales con capas delgadas de suelo y con baja capacidad de infiltración típicas de **zonas semiáridas y áridas**.\n",
    "\n",
    "La respuesta a un evento de tormenta puede originar flujo superficial hortoniano en un *área de contribución* limitada de baja permeabilidad que varía de una cuenca a otra. Esta área se mantiene constante en una cuenca dada con excepción quizás durante eventos extremos.\n",
    "\n",
    "<div>\n",
    "<center><img src=\"Hortonian.png\" width=\"500\"/><center>\n",
    "Figura 1. Flujo superficial hortoniano a lo largo de una pendiente de longitud $X_s$,<br> siendo $q_{ho}(X_s,t)$ el flujo lateral que ingresa en la corriente en el tiempo $t$\n",
    "</div>"
   ]
  },
  {
   "cell_type": "markdown",
   "id": "1073923f-c897-4283-9428-84d94cd117e6",
   "metadata": {},
   "source": [
    "#### Contenido de humedad del suelo\n",
    "\n",
    "Ahora, algunos conceptos básicos relacionados con el contenido de humedad en el suelo:\n",
    "\n",
    "**Capacidad de campo**: Si un suelo está saturado y luego es drenado sin estar sujeto a evapotranspiración, su contenido de agua va a disminuir indefinidamente de una forma casi-exponencial, siguiendo la Ley de Darcy (suponiendo $z$ positivo hacia abajo):\n",
    "\n",
    "$$q_z=-K_h(\\theta)\\left(\\frac{\\partial \\psi} {\\partial z}-1\\right)$$\n",
    "\n",
    "La capacidad de campo $\\theta_{fc}$ es el contenido de agua para el cual la tasa de drenaje por gravedad es despreciable. Por lo tanto, es una medida de la cantidad de agua que el suelo puede contener en contra de la fuerza de gravedad. Cuando se alcanza este punto, el movimiento vertical prácticamente cesa y el volumen de agua solo puede ser reducido por evapotranspiración. Suponiendo una tasa de flujo límite $q_z=0.1$ mm/d, y usando las relaciones de van Genuchten, la capacidad de campo se puede estimar como:\n",
    "\n",
    "$$\\theta^*_{fc} = n^{-0.60[2 + \\log_{10}(K_h)]}$$ <br>\n",
    "$$\\theta^*_{fc} = \\frac{\\theta^*_{fc} - \\theta_r} {\\theta - \\theta_r}$$ <br>\n",
    "\n",
    "**Punto de marchitamiento permanente**: En la naturaleza, el agua puede ser removida de un suelo que ha alcanzado su capacidad de campo por evaporación (exfiltración) o por absorción por parte de las plantas (transpiración). Sin embargo, hay un límite que varía por especie el cual limita la succión que una planta puede ejercer. Para propósitos hidrológicos, dicho límite se considera igual a -15,000 cm de agua o -1,470 kPa. Al alcanzar dicho límite, la evapotranspiración se detiene y las plantas se marchitan:\n",
    "\n",
    "$$\\theta_{wp}=\\theta(\\psi=-15,000 cm)$$\n",
    "\n",
    "El anterior valor se puede calcular con las relaciones de van Genuchten.\n",
    "\n",
    "**Estado de humedad del suelo**: La diferencia entre capacidad de campo y el punto de marchitamiento permanente se conoce como *contenido de agua disponible* $\\theta_a$, el cual es considerado como la cantidad de agua disponible para el uso de las plantas.\n",
    "\n",
    "$$\\theta_a=\\theta_{fc}-\\theta_{wp}$$\n",
    "\n",
    "<div>\n",
    "<center><img src=\"awc.png\" width=\"800\"/><center>\n",
    "Figura 2. Estado de humedad del suelo en función del potencial mátrico (tensión)\n",
    "</div>"
   ]
  },
  {
   "cell_type": "markdown",
   "id": "0aa7664f-1083-49c7-bb2e-94a21197bdfa",
   "metadata": {},
   "source": [
    "#### Modelación del proceso de infiltración\n",
    "\n",
    "La infiltración es el proceso por el cual el agua que llega a la superficie del suelo entra al suelo. Por simplicidad, en esta sección se presentan ecuaciones asumiento infiltración en un punto y suelos homogéneos sin macroporos. Así mismo, se ignora el flujo de aire hacia arriba, y efectos por gradientes térmicos y osmóticos. Las ecuaciones que describen este proceso, generalmente incluyen los siguientes términos:\n",
    "\n",
    "* **Tasa de entrada del agua**, $w(t)$ [L T$^{-1}$]: tasa a la cual el agua llega a la superficie debido a la lluvia, derretimiento de nieve, o riego. Un evento de entrada de agua ocurre entre el tiempo $t=0$ y $t=T_w$.\n",
    "* **Tasa de infiltración**, $f(t)$ [L T$^{-1}$]: tasa a la cual el agua entra al suelo desde la superficie.\n",
    "* **Capacidad de infiltración o tasa de infiltración potencial**, $f^*(t)$ [L T$^{-1}$]: tasa máxima a la cual ocurre infiltración en cualquier momento y que puede cambiar durante el evento de infiltración.\n",
    "* **Profundidad de encharcamiento**, $H(t)$ [L]: profundidad del agua que se mantiene en la superficie.\n",
    "\n",
    "Hay tres condiciones típicas bajo las cuales se desarrolla el proceso de infiltración:\n",
    "\n",
    "1. **Sin encharcamiento**: Controlada por suministro o flujo, $H(t)=0, f(t)=w(t) ≤ f^*(t)$\n",
    "2. **Saturación desde arriba**: Encharcamiento presente. La tasa de infiltración se determina por el tipo de suelo y humedad, siendo controlada por el perfil de suelo, $H(t)>0, f(t)=f^*(t) ≤ w(t)$\n",
    "3. **Saturación desde abajo**: Encharcamiento presente porque el nivel freático alcanza o excede la superficie, $H(t)≥0, f(t)=f^*(t)=0$\n",
    "\n",
    "Entre los factores que afectan la infiltración están:\n",
    "- Tasa de entrada de agua y profundidad de encharcamiento\n",
    "- Conductividad hidráulica en la superficie, la cual a su vez depende de:\n",
    "    * Capas orgánicas superficiales\n",
    "    * Escarcha (*frost*)\n",
    "    * Expansión-contracción\n",
    "    * Compactación superficial por lluvia\n",
    "    * Lavado e ingreso de sedimentos finos\n",
    "    * Modificación humana\n",
    "- Contenido de humedad en los poros superficiales\n",
    "- Pendiente de la superficie y rugosidad\n",
    "- Características químicas de la superficie del suelo\n",
    "- Propiedades físicas y químicas del agua"
   ]
  },
  {
   "cell_type": "markdown",
   "id": "a2bc917a-1d34-4d5c-b7fc-7d7665af283e",
   "metadata": {},
   "source": [
    "#### Ecuaciones que describen el proceso de infiltración\n",
    "\n",
    "La ecuación de Richards es la base de modelación numérica por excelencia, la cual permite simular procesos de infiltración, exfiltración, y redistribución del agua en el suelo al definir condiciones iniciales y de frontera apropiadas. \n",
    "\n",
    "Debido a la demanda computacional que requiere su solución numérica, los modelos hidrológicos suelen incorporar aproximaciones más simples, algunas de las cuales se presentan a continuación.\n",
    "\n",
    "##### Ecuación de Horton\n",
    "\n",
    "Una de las primeras ecuaciones de infiltración fue desarrollada por Horton (1933, 1939), quien observó que la infiltración empieza en alguna tasa $f_0$ y decrece exponencialmente hasta alcanzar una tasa constante $f_c$:\n",
    "\n",
    "$$f^*(t)=f_c + (f_0 - f_c)e^{-kt}$$\n",
    "\n",
    "siendo $k$ la tasa de decaimiento con unidades de [T$^{-1}$]. La ecuación de Horton se puede derivar de la ecuación de Richards basada en el contenido de humedad suponiendo solo efectos de capilaridad (lo cual es válido en las capas superiores, especialmente al inicio del proceso de infiltración en suelos inicialmente secos) y tasas de difusividad $D(\\theta)$ y de conductividad hidráulica $K(\\theta)$ constantes:\n",
    "\n",
    "$$\\frac {\\partial \\theta} {\\partial t}=D(\\theta) \\frac {\\partial^2 \\theta} {\\partial z^2}$$<br>\n",
    "$$ D(\\theta) = K(\\theta) \\frac {\\partial \\psi} {\\partial z}$$\n",
    "\n",
    "##### Ecuación de Philip\n",
    "\n",
    "Philip (1957, 1969) resolvió la ecuación de Richards para un suelo infinitamente profundo suponiendo que $K$ y $D$ varían con el contenido de humedad $\\theta$ usando la transformada de Boltzmann para convertir la ecuación de Richards basada en $\\theta$ en una ecuación diferencial ordinaria basada en $B$:\n",
    "\n",
    "$$ B(\\theta)=zt^{-1/2}$$ <br>\n",
    "\n",
    "$$\\frac {d} {dB} \\left[D(\\theta) \\frac {d \\theta} {dB} \\right] + \\frac {B} {2} \\frac {d\\theta} {dB} = 0$$<br>\n",
    "\n",
    "Philip resolvió la anterior ecuación mediante una serie infinita que describe la infiltración acumulada $F(t)$ (típicamente se utilizan solo los dos primeros términos de la expansión):\n",
    "\n",
    "$$F(t)=\\int_{0}^{t} f(\\tau)d\\tau$$<br>\n",
    "$$F(t)=S_pt^{1/2}+K_pt$$<br>\n",
    "$$f(t)=\\frac {1}{2}S_pt^{-1/2}+K_p$$<br>\n",
    "\n",
    "En las anteriores ecuaciones, $S_p$ es la adsorción y $K_p$ es la conductividad hidráulica. Nótese que cuando $t \\rightarrow \\infty, f(t)=K_p$. La ecuación de Philip es la solución exacta de la ecuación de Richards solo cuando $K(\\theta)$ es una función lineal de $\\theta$ y $H(t)$ aumenta proporcionalmente con $t^{1/2}$, las cuales son condiciones irreales."
   ]
  },
  {
   "cell_type": "markdown",
   "id": "57a005b9-f47c-4811-9e63-c7397fa220f0",
   "metadata": {},
   "source": [
    "#### Problema 1 - Estimación de parámetros de infiltración\n",
    "\n",
    "Se tienen los siguientes datos de infiltración acumulada en el tiempo obtenidos con un infiltómetro:"
   ]
  },
  {
   "cell_type": "code",
   "execution_count": 19,
   "id": "d83ab389-4f61-41d2-a4ab-3eac5d163ad2",
   "metadata": {
    "tags": []
   },
   "outputs": [],
   "source": [
    "import pandas as pd\n",
    "\n",
    "opt = 'soil2'\n",
    "\n",
    "if opt == 'soil1':\n",
    "    tobs = [0,1,2,4,6,10,20,30,60,120,180,240,360,480,600,960,1140,1320,1480] # tiempo en minutos\n",
    "    Fobs = [0,4,5,6,7,8,10,11,14,18,21,24,29,34,38,50,56,61,65] # infiltración acumulada en mm\n",
    "elif opt == 'soil2':\n",
    "    tobs = [0,1,2,4,7,11,19,30,39,54,74,94,114,135,157,174]\n",
    "    Fobs = [0,3.3,4.5,6.2,8.2,11,14.8,20.7,24.4,29.9,37.1,43.5,49.7,55.6,61.9,66.7]\n",
    "\n",
    "data = pd.DataFrame({'tobs':tobs, 'Fobs':Fobs})"
   ]
  },
  {
   "cell_type": "markdown",
   "id": "4803a9fd-e549-49a9-beab-a78f000c1492",
   "metadata": {},
   "source": [
    "A partir de estos datos experimentales, determine los parámetros de la ecuación de Horton y de Philip, y grafique las curvas simuladas y los datos observados."
   ]
  },
  {
   "cell_type": "markdown",
   "id": "c2e67dfd-3408-43bb-b36e-aa40af9f8a1e",
   "metadata": {},
   "source": [
    "#### Funciones"
   ]
  },
  {
   "cell_type": "code",
   "execution_count": 12,
   "id": "e363a1da-7954-4d4c-93e9-693e1ccc26a7",
   "metadata": {
    "tags": []
   },
   "outputs": [],
   "source": [
    "import numpy as np\n",
    "import matplotlib.pyplot as plt\n",
    "\n",
    "def horton(t, f0, fc, k):\n",
    "    f = fc + (f0 - fc) * np.exp(-k*t)\n",
    "    F = fc * t + (f0 - fc)/k * (1 - np.exp(-k*t))\n",
    "    return({'f':f, 'F':F})\n",
    "\n",
    "def philip(t, Sp, Kp):\n",
    "    f = 0.5 * Sp * t ** (-0.5) + Kp\n",
    "    F = Sp * t ** (0.5) + Kp * t\n",
    "    return({'f':f, 'F':F})\n",
    "\n",
    "def rmse(obs, sim):\n",
    "    res = obs - sim\n",
    "    rmse = np.sqrt(res.dot(res)/len(res))\n",
    "    return rmse"
   ]
  },
  {
   "cell_type": "markdown",
   "id": "a0d99825-b8da-4484-9fcf-7d1aebb64113",
   "metadata": {
    "tags": []
   },
   "source": [
    "#### Simulaciones de Monte Carlo"
   ]
  },
  {
   "cell_type": "code",
   "execution_count": 13,
   "id": "3e3e609e-6247-41ff-92f9-8e0cf35f2ad0",
   "metadata": {
    "tags": []
   },
   "outputs": [],
   "source": [
    "def monte_carlo(params, fun_name, tout='tobs', Fout='Fobs'):\n",
    "    F_out = []\n",
    "    rmse_out = []\n",
    "    for param in params:\n",
    "        F_i = globals()[fun_name](data[tout], *param).get('F')\n",
    "        rmse_i = rmse(data[Fout], F_i)\n",
    "        F_out = F_out + [F_i]\n",
    "        rmse_out = rmse_out + [rmse_i]\n",
    "\n",
    "    F_out = np.array(F_out)\n",
    "    rmse_out = np.array(rmse_out)\n",
    "\n",
    "    best_rmse = np.min(rmse_out)\n",
    "    best_params = params[np.where(rmse_out == best_rmse)][0]\n",
    "    \n",
    "    return best_params, best_rmse"
   ]
  },
  {
   "cell_type": "code",
   "execution_count": 14,
   "id": "5468fb4e-e45d-4698-af11-df1c672d7de4",
   "metadata": {
    "tags": []
   },
   "outputs": [],
   "source": [
    "# Rangos de calibración - Modelo de Philip\n",
    "Sp_range = [0.2, 5]\n",
    "Kp_range = [0.0001, 0.5]\n",
    "\n",
    "# Rangos de calibración - Modelo de Horton\n",
    "f0_range = [1, 5]\n",
    "fc_range = [0, 0.5]\n",
    "k_range  = [0, 5]\n",
    "\n",
    "nsim = 10000 # Número de simulaciones de Monte Carlo\n",
    "seed = 12345 # Semilla generador aleatorios - reproducibilidad\n",
    "rng = np.random.default_rng(seed) # Generador de números aleatorios\n",
    "\n",
    "params_philip = rng.uniform([Sp_range[0], Kp_range[0]], [Sp_range[1], Kp_range[1]], (nsim, 2))\n",
    "params_horton = rng.uniform([f0_range[0], fc_range[0], k_range[0]], [f0_range[1], fc_range[1], k_range[1]], (nsim, 3))\n",
    "\n",
    "best_params_philip, best_rmse_philip = monte_carlo(params_philip, 'philip')\n",
    "best_params_horton, best_rmse_horton = monte_carlo(params_horton, 'horton')"
   ]
  },
  {
   "cell_type": "code",
   "execution_count": 29,
   "id": "60be8c0b-1fa3-45ee-a6cd-89dbd60d147e",
   "metadata": {
    "tags": []
   },
   "outputs": [
    {
     "name": "stdout",
     "output_type": "stream",
     "text": [
      "Mejor estimación - Philip: Sp = 2.81 mm/min^0.5, Kp = 0.169 mm/min, rmse = 0.30 mm\n",
      "Mejor estimación - Horton: f0 = 1.64 mm/min, fc = 0.324 mm/min, k = 0.12 min^-1, rmse = 1.13 mm\n"
     ]
    },
    {
     "data": {
      "image/png": "[encoded data removed]",
      "text/plain": [
       "<Figure size 640x480 with 1 Axes>"
      ]
     },
     "metadata": {},
     "output_type": "display_data"
    },
    {
     "data": {
      "image/png": "[encoded data removed]",
      "text/plain": [
       "<Figure size 640x480 with 1 Axes>"
      ]
     },
     "metadata": {},
     "output_type": "display_data"
    }
   ],
   "source": [
    "Sp = best_params_philip[0]\n",
    "Kp = best_params_philip[1]\n",
    "f0 = best_params_horton[0]\n",
    "fc = best_params_horton[1]\n",
    "k  = best_params_horton[2]\n",
    "\n",
    "print(f'Mejor estimación - Philip: Sp = {Sp:3.2f} mm/min^0.5, Kp = {Kp:3.3} mm/min, rmse = {best_rmse_philip:3.2f} mm')\n",
    "print(f'Mejor estimación - Horton: f0 = {f0:3.2f} mm/min, fc = {fc:3.3f} mm/min, k = {k:3.2f} min^-1, rmse = {best_rmse_horton:3.2f} mm')\n",
    "\n",
    "# Soluciones (mejor ajuste)\n",
    "Fp = philip(data['tobs'],Sp,Kp).get('F')\n",
    "Fh = horton(data['tobs'],f0,fc,k).get('F')\n",
    "\n",
    "# Gráfica - valores acumulados\n",
    "plt.plot(tobs, Fp, label='Modelo de Philip')\n",
    "plt.plot(tobs, Fh,'r',label='Modelo de Horton')\n",
    "plt.plot(tobs,Fobs, 'ko') \n",
    "plt.xscale('log')\n",
    "plt.xlabel('Tiempo (min)')\n",
    "plt.ylabel('Infiltración acumulada (mm)')\n",
    "plt.legend()\n",
    "plt.show()\n",
    "\n",
    "# Gráfica - valores instantáneos\n",
    "fp = philip(data['tobs'],Sp,Kp).get('f'); fp[0] = 1e6\n",
    "fh = horton(data['tobs'],f0,fc,k).get('f')\n",
    "fobs = np.diff(data['Fobs'])/np.diff(data['tobs'])\n",
    "\n",
    "plt.plot(tobs[:], fp[:], label='Modelo de Philip')\n",
    "plt.plot(tobs[:], fh[:],'r',label='Modelo de Horton')\n",
    "plt.plot(tobs[:-1],fobs, 'ko')\n",
    "plt.xlabel('Tiempo (min)')\n",
    "plt.ylabel('Infiltración (mm/min)')\n",
    "plt.ylim([0,1.1*max(fobs)])\n",
    "plt.legend()\n",
    "plt.show()"
   ]
  },
  {
   "cell_type": "markdown",
   "id": "6c1bc8d5-4f85-47ad-b598-d75a4756ef3a",
   "metadata": {},
   "source": [
    "### Modelo de Green & Ampt\n",
    "\n",
    "Este modelo, desarrollado originalmente por Green y Ampt en 1911 y desarrollado más ampliamente por Mein y Larson (1973), es una aproximación más simple que la ecuación de Richards para representar el fenómeno de infiltración que permite evaluar las interacciones entre las propiedades del suelo, las condiciones iniciales (condiciones antecedentes de humedad), y las características del evento de precipitación que determinan si ocurre o no encharcamiento y en qué momento.\n",
    "\n",
    "El modelo de Green-Ampt aplica la Ley de Darcy y el principio de conservación de la masa utilizando una aproximación de diferencias finitas. Generalmente se supone que la condición inicial de humedad del suelo es menor a la capacidad de campo $\\theta_{i} < \\theta_{fc}$ y que el flujo de agua descendente suponiendo $z$ positivo hacia abajo es $q_z(z,0) = K(\\theta_{i})$. Cuando el agua llega a la superficie por precipitación, pueden ocurrir dos casos: 1) $w < K$ y 2) $w ≥ K$, siendo $K$ la conductividad hidráulica saturada del suelo y $w$ la tasa de entrada del agua (e.g., intensidad de precipitación).\n",
    "\n",
    "Si $w$ < $K$, la tasa de infiltración $f$ es igual a $w$ hasta que cese la entrada de agua:\n",
    "\n",
    "$$f(t) = w; 0 < t ≤ T_w$$\n",
    "\n",
    "Cuando $w > K$, las capas superiores del suelo aumentan rápidamente su contenido de humedad hasta igualar la porosidad del suelo $\\phi$ (esto ocurre porque la tasa de transimisión es mas alta que la tasa de salida $K(\\theta)$, ocurriendo almacenamiento). En condiciones de saturación, la conductividad hidráulica no puede exceder $K$. Cuando las capas superiores se saturan, el frente de mojado empieza a descender, con $\\theta = \\phi$ por encima del frente de mojado y $\\theta = \\theta_i$ por debajo de éste.\n",
    "\n",
    "Para calcular el tiempo de encharcamiento $t_p$, se supone que el suelo se divide en dos zonas: una totalmente saturada con longitud $L$ y otra por debajo con humedad $\\theta_i$ o con déficit de humedad $\\Delta\\theta = \\phi - \\theta_i$\n",
    "\n",
    "<center><img src=\"Green-Ampt-model.png\" width=\"400\"/><center>\n",
    "<center>Figura 3. Variables en el modelo de infiltración de Green-Ampt.<center>\n",
    "<br>\n",
    "\n",
    "La profundidad $L = z_w$ ocurre cuando $t = t_p$. Hasta ese momento, toda el agua de entrada $w$ ha sido infiltrada, por lo tanto:\n",
    "\n",
    "$$ F(t_p) = wt_p = L\\Delta\\theta $$\n",
    "\n",
    "Por lo tanto:\n",
    "\n",
    "$$t_p = \\frac {L\\Delta\\theta} {w} $$\n",
    "    \n",
    "Para determinar $L$, se utiliza la Ley de Darcy en forma de diferencias finitas, resultando en:\n",
    "\n",
    "$$ q_z(0, t_p) = f(t_p) = w = -K \\left[ \\frac {\\psi_f - 0} {L} - 1\\right]$$\n",
    "\n",
    "Siendo $\\psi_f$ la tensión efectiva del frente de mojado. En el instante que ocurre encharcamiento, la tensión en la superficie es igual a 0. Sabiendo que $\\psi_f < 0$, se puede despejar $L$ como:\n",
    "\n",
    "$$ L = \\frac {K\\lvert \\psi_f \\rvert} {w - K}$$\n",
    "\n",
    "Entonces:\n",
    "\n",
    "$$ t_p = \\frac {K\\lvert \\psi_f \\rvert\\Delta\\theta} {w(w - K)}$$\n",
    "\n",
    "Después de alcanzado el tiempo de encharcamiento, la tasa de infiltración potencial se calcula así:\n",
    "    \n",
    "$$ f^*(t) = -K\\left[ \\frac {\\psi_f + H(t)} {L} - 1\\right]$$\n",
    "    \n",
    "Siendo $H(t)$ la profundidad de encharcamiento, la cual es en general una función complicada que depende de la cantidad de infiltración y de la rugosidad y pendiente superficial, y que puede aproximarse a 0 en muchos casos de superficies naturales. Teniendo en cuenta que $F(t) = L\\Delta\\theta$, se obtiene:\n",
    "\n",
    "$$f(t)=f^*(t)=K\\left[ \\frac {\\lvert \\psi_f \\rvert \\Delta\\theta} {F(t)} + 1\\right]; t_p≤t≤T_w$$\n",
    "\n",
    "Sabiendo que $dF(t)/dt = f(t)$, se obtiene una ecuación diferencial que al resolverla resulta en una expresión implícita para $F(t)$, así:\n",
    "\n",
    "$$F(t) = F(t_p) + K(t-t_p) + \\lvert \\psi_f \\rvert \\Delta\\theta \\ln {\\left[ \\frac {F(t) + \\lvert \\psi_f \\rvert \\Delta\\theta} {F(t_p) + \\lvert \\psi_f \\rvert \\Delta\\theta}\\right]} $$\n",
    "\n",
    "donde $F(t) > F(t_p)$ y $t_p ≤ t ≤ T_w$. \n",
    "\n",
    "Para utilizar la ecuación anterior, se deben determinar valores apropiados para $\\phi$, $K$, y $\\psi_f$ para el suelo de interés. Al no contar con mediciones, $\\phi$ y $K$ se pueden estimar utilizando funciones de pedotransferencia o triángulos de propiedades hidráulicas de suelos. Si bien $\\psi_f$ es función del tiempo, la profundidad de encharcamiento, el contenido de agua inicial, y el tipo de suelo, en general se puede estimar utilizando los parámetros de la ecuación de Brooks-Corey así:\n",
    "    \n",
    "$$\\lvert \\psi_f \\rvert = \\frac {2b + 3} {2b + 6} \\lvert \\psi_{ea} \\rvert$$"
   ]
  },
  {
   "cell_type": "markdown",
   "id": "e2578b08-a02e-4044-9bb1-997275bb7e85",
   "metadata": {},
   "source": [
    "#### Consideración del tiempo de encharcamiento en las ecuaciones de Horton y Philip\n",
    "\n",
    "En las secciones anteriores se presentaron los métodos de Horton y Philip que permiten calcular la tasa potencial de infiltración cuando la tasa de entrada de agua supera la conductividad superficial del suelo, lo cual implica que existe encharcamiento. El tiempo de encharcamiento es el lapso de tiempo entre el inicio de la lluvia y el momento en el cual la capa superficial del suelo se satura. El tiempo de encharcamiento para las ecuaciones de Horton y Philip se calcula de forma similar que para el modelo de Green-Ampt.\n",
    "\n",
    "##### Ecuación de Philip\n",
    "\n",
    "En el caso de la ecuación de Philip, se determina primero un *tiempo de compresión* $t_{cp}$ que se obtiene sabiendo que $f^*(t)=w$:\n",
    "\n",
    "$$t_{cp} = \\left[\\frac {S_p} {2(w-K)} \\right]^2$$\n",
    "\n",
    "Luego, el *tiempo de encharcamiento* $t_p$ se calcula sabiendo que $F(t_{cp}) = wt_p$, resultando en la siguiente expresión:\n",
    "\n",
    "$$t_p = \\frac {F(t_p)} {w} = \\frac {S_pt_{cp}^{1/2} + Kt_{cp}}{w} = \\frac{S_p^2(w-K/2)} {2w(w-K)^2}; (w > K)$$\n",
    "\n",
    "Es importante anotar que utilizando las relaciones de Brooks-Corey, la adsorción $S_p$ se puede calcular a partir de la humedad inicial del suelo $\\theta_i$ de la siguiente forma:\n",
    "\n",
    "$$S_p = \\left[\\Delta\\theta K\\lvert \\psi_{ea} \\rvert\\left(\\frac {2b+3} {b+3}\\right) \\right]^{1/2}$$\n",
    "\n",
    "##### Ecuación de Horton\n",
    "\n",
    "En el caso de Horton, el *tiempo de compresión* $t_{cp}$ es:\n",
    "\n",
    "$$t_{cp} = \\frac {1}{k} \\ln {\\left( \\frac {f_0-f_c} {w-f_c} \\right)}$$\n",
    "\n",
    "El *tiempo de encharcamiento* $t_p$ quedaría entonces así:\n",
    "\n",
    "$$t_p = \\frac {1} {wk} \\left[f_0 - w + f_c \\ln {\\left( \\frac {f_0-f_c} {w-f_c} \\right)} \\right]; (f_c < w < f_0)$$\n",
    "\n",
    "#### Cálculo de la infiltración para tiempos mayores al tiempo de encharcamiento\n",
    "\n",
    "Cuando $0 ≤ t ≤ t_p$, la tasa de infiltración es igual a la tasa de entrada de agua:\n",
    "\n",
    "$$f(t) = f^*(t) = w$$\n",
    "\n",
    "El tiempo efectivo $t_e$ con el cual se calcula la infiltración para tiempos mayores a $t_p$ utilizando la ecuación de Philip o la de Horton se calcula así:\n",
    "\n",
    "$$t_e = t - t_0$$ <br>\n",
    "$$t_0 = t_p - t_{cp}$$\n",
    "\n",
    "Por lo tanto, la tasa de infiltración se calcula así:\n",
    "\n",
    "$$f(t) = f^*(t_e=t-t_0)$$\n",
    "\n",
    "Siendo $f^*(t)$ la tasa de infiltración potencial, la cual se calcula directamente aplicando las ecuaciones de Horton o Philip, según sea el caso."
   ]
  },
  {
   "cell_type": "markdown",
   "id": "f0b9f03c-e3fe-4c32-af14-5d143d237a7b",
   "metadata": {},
   "source": [
    "#### Problema 2 - Comparación de modelos de Philip y Green-Ampt\n",
    "\n",
    "Determine el comportamiento de la infiltración en un suelo con 20% de arena, 60% de limo, y 20% de arcilla con un contenido inicial de humedad $\\theta_i = 0.350$ cuando ocurre una lluvia constante de 2 cm/hr durante 2 horas. Compare las soluciones dadas por los modelos de Philip y Green-Ampt."
   ]
  },
  {
   "cell_type": "markdown",
   "id": "ade124e7-bfaa-4c81-a76b-e4c2009d4b7f",
   "metadata": {},
   "source": [
    "#### Paso 1: Determinación de propiedades hidráulicas del suelo\n",
    "\n",
    "A partir del siguiente diagrama, es posible clasificar la textura del suelo como franco limoso (***silt loam***).\n",
    "\n",
    "<center><img src=\"Triángulo.png\" width=\"400\"/></center>\n",
    "\n",
    "De acuerdo con el siguiente diagrama, el suelo puede clasificarse como **clase B3**, cuyas propiedades hidráulicas se pueden extraer de la tabla adjunta.\n",
    "\n",
    "<center><img src=\"Triángulo2.png\" width=\"400\"/></center>\n",
    "\n",
    "<center><img src=\"Clases_suelo.png\" width=\"600\"/></center>\n",
    "\n",
    "De allí se obtiene una porosidad promedio $\\phi = 0.413$ y una conductividad hidráulica de saturación promedio $K = 10^{1.197} = 15.7$ cm/d. A partir de la tabla siguiente, se estiman valores promedio de $\\lvert \\psi_{ea} \\rvert = 78.6$ cm y de $b=5.30$ para las ecuaciones de Brooks-Corey:\n",
    "\n",
    "<center><img src=\"Brooks-Corey.png\" width=\"600\"/></center>\n",
    "\n",
    "Por lo tanto, la tensión efectiva de la capa saturada $\\lvert \\psi_{f} \\rvert$ y la adsorción $S_p$ se pueden calcular a continuación:"
   ]
  },
  {
   "cell_type": "code",
   "execution_count": 116,
   "id": "40ef2ec8-33e4-4947-a376-7923824ed07f",
   "metadata": {
    "tags": []
   },
   "outputs": [
    {
     "name": "stdout",
     "output_type": "stream",
     "text": [
      "Los valores de tensión efectiva y adsorción son -64.40 cm y 2.30 cm hr^-0.5\n"
     ]
    }
   ],
   "source": [
    "import numpy as np\n",
    "import matplotlib.pyplot as plt\n",
    "from scipy.optimize import fsolve\n",
    "\n",
    "# Parámetros del suelo\n",
    "phi = 0.413 # Porosidad\n",
    "K = 15.7 * (1/24) # Conductividad hidráulica de saturación (cm/hr)\n",
    "psi_ea = -78.6 # Tensión de entrada de aire (cm)\n",
    "b = 5.30 # Parámetro de distribución de tamaño de poros - Brooks-Corey\n",
    "theta_i = 0.35 # Contenido de humedad inicial\n",
    "\n",
    "# Parámetros de la lluvia\n",
    "w = 2 # intensidad de la precipitación (cm/hr)\n",
    "Tw = 2 # tiempo final de la lluvia (hr)\n",
    "\n",
    "psi_f = (2 * b + 3)/(2 * b + 6) * psi_ea # tensión efectiva (cm)\n",
    "delta_theta = phi - theta_i # déficit de humedad\n",
    "Sp = (delta_theta * K * abs(psi_ea) * (2 * b + 3) / (b + 3)) ** 0.5 # Adsorción (cm hr-0.5)\n",
    "\n",
    "print(f'Los valores de tensión efectiva y adsorción son {psi_f:3.2f} cm y {Sp:3.2f} cm hr^-0.5')"
   ]
  },
  {
   "cell_type": "markdown",
   "id": "9045f85d-4667-4acd-b054-bf9add427889",
   "metadata": {},
   "source": [
    "#### Funciones y clases"
   ]
  },
  {
   "cell_type": "code",
   "execution_count": 160,
   "id": "c4e5dc3a-e767-43a6-a130-66a715e66065",
   "metadata": {
    "tags": []
   },
   "outputs": [],
   "source": [
    "class green_ampt_implicit:\n",
    "    \n",
    "    def __init__(self):\n",
    "        self.K = None\n",
    "        self.psi_f = None\n",
    "        self.phi = None\n",
    "        self.theta_i = None\n",
    "        self.tspan = None\n",
    "        self.w = None\n",
    "        self.dt = 0.1 # paso de tiempo (hr)\n",
    "        \n",
    "    def time_ponding(self):\n",
    "        phi = self.phi\n",
    "        theta_i = self.theta_i\n",
    "        psi_f = self.psi_f\n",
    "        K = self.K\n",
    "        w = self.w\n",
    "        \n",
    "        tp = K * abs(psi_f) * (phi - theta_i) / (w * (w - K))\n",
    "        \n",
    "        return tp\n",
    "    \n",
    "    def cum_filtration(self, t, tp, Fp):\n",
    "        phi = self.phi\n",
    "        theta_i = self.theta_i\n",
    "        psi_f = self.psi_f\n",
    "        K = self.K\n",
    "        w = self.w\n",
    "        \n",
    "        delta_theta = phi - theta_i\n",
    "        \n",
    "        def func(x, t, tp, Fp, delta_theta, psi_f):\n",
    "            x1 = abs(psi_f) * delta_theta + x\n",
    "            x2 = abs(psi_f) * delta_theta + Fp\n",
    "            x3 = K * (t - tp)\n",
    "            return x - Fp - abs(psi_f) * delta_theta * np.log(x1/x2) - x3\n",
    "        \n",
    "        F = fsolve(func, x0 = Fp, args = (t, tp, Fp, delta_theta, psi_f))[0]\n",
    "        return F\n",
    "    \n",
    "    def infiltration(self, F):\n",
    "        phi = self.phi\n",
    "        theta_i = self.theta_i\n",
    "        psi_f = self.psi_f\n",
    "        K = self.K\n",
    "        \n",
    "        delta_theta = phi - theta_i\n",
    "        \n",
    "        f = K * (abs(psi_f) * delta_theta / F + 1)\n",
    "        return f\n",
    "    \n",
    "    def profundidad(self, F):\n",
    "        phi = self.phi\n",
    "        theta_i = self.theta_i\n",
    "        \n",
    "        delta_theta = phi - theta_i\n",
    "        z = F/delta_theta\n",
    "        return z\n",
    "    \n",
    "    def solve(self):\n",
    "        w  = self.w\n",
    "        tw = self.tspan[1]\n",
    "        t0 = self.tspan[0]\n",
    "        dt = self.dt\n",
    "        tp = self.time_ponding()\n",
    "\n",
    "        F = [0]; f = [w]; t = [t0]; z = [0]\n",
    "        if (tp < tw):\n",
    "            print(f'Hay encharcamiento y ocurre a las {tp:3.2f} hr')\n",
    "            # Infiltración para t ≤ tp\n",
    "            Fp = w * tp\n",
    "            L = self.profundidad(Fp)\n",
    "            F = F + [Fp]; f = f + [w]; t = t + [tp]; z = z + [L]\n",
    "            # Infiltración para t > tp\n",
    "            t2 = np.arange(tp, tw+dt, dt)\n",
    "            for t_i in t2:\n",
    "                F_i = self.cum_filtration(t_i, tp, Fp)\n",
    "                f_i = self.infiltration(F_i)\n",
    "                z_i = self.profundidad(F_i)\n",
    "                F = F + [F_i]; f = f + [f_i]; z = z + [z_i]\n",
    "            t = t + t2.tolist()\n",
    "        else:\n",
    "            print('No ocurre encharcamiento, por lo tanto no hay flujo hortoniano')\n",
    "            t = self.tspan\n",
    "            f = [w, w]\n",
    "            F = [0, w * tw]\n",
    "            z = [0, self.profundidad(F[1])]\n",
    "        \n",
    "        return {'F':F, 'f':f, 'z':z, 't':t}\n",
    "    \n",
    "class philip_model:\n",
    "    \n",
    "    def __init__(self):\n",
    "        self.K = None\n",
    "        self.Sp = None\n",
    "        self.tspan = None\n",
    "        self.w = None\n",
    "        self.dt = 0.1 # paso de tiempo (hr)\n",
    "    \n",
    "    def time_compress(self):\n",
    "        K = self.K\n",
    "        Sp = self.Sp\n",
    "        w = self.w\n",
    "        \n",
    "        tcp = (Sp / (2 * (w - K))) ** 2\n",
    "        return tcp\n",
    "    \n",
    "    def time_ponding(self):\n",
    "        K = self.K\n",
    "        Sp = self.Sp\n",
    "        w = self.w\n",
    "        \n",
    "        tp = Sp ** 2 * (w - K/2) / (2 * w * (w - K) ** 2)\n",
    "        return tp\n",
    "    \n",
    "    def cum_filtration(self, t):\n",
    "        Sp = self.Sp\n",
    "        K = self.K\n",
    "        F = Sp * t ** (0.5) + K * t\n",
    "        return F\n",
    "    \n",
    "    def infiltration(self, t):\n",
    "        Sp = self.Sp\n",
    "        K = self.K\n",
    "        f = 0.5 * Sp * t ** (-0.5) + K\n",
    "        return f\n",
    "    \n",
    "    def solve(self):\n",
    "        w  = self.w\n",
    "        tw = self.tspan[1]\n",
    "        t0 = self.tspan[0]\n",
    "        dt = self.dt\n",
    "        tp = self.time_ponding()\n",
    "        tcp = self.time_compress()\n",
    "        t0 = tp - tcp\n",
    "        \n",
    "        F = [0]; f = [w]; t = [t0]\n",
    "        if (tp < tw):\n",
    "            print(f'Hay encharcamiento y ocurre a las {tp:3.2f} hr')\n",
    "            # Infiltración para t ≤ tp\n",
    "            Fp = w * tp\n",
    "            F = F + [Fp]; f = f + [w]; t = t + [tp]\n",
    "            # Infiltración para t > tp\n",
    "            t2 = np.arange(tp, tw+dt, dt)\n",
    "            for t_i in t2:\n",
    "                F_i = self.cum_filtration(t_i-t0)\n",
    "                f_i = self.infiltration(t_i-t0)\n",
    "                F = F + [F_i]; f = f + [f_i]\n",
    "            t = t + t2.tolist()\n",
    "        else:\n",
    "            print('No ocurre encharcamiento, por lo tanto no hay flujo hortoniano')\n",
    "            t = self.tspan\n",
    "            f = [w, w]\n",
    "            F = [0, w * tw]\n",
    "        \n",
    "        return {'F':F, 'f':f, 't':t}              "
   ]
  },
  {
   "cell_type": "markdown",
   "id": "99fcc1b9-1354-4bf8-8016-1df28c947c79",
   "metadata": {},
   "source": [
    "#### Modelo de Green & Ampt"
   ]
  },
  {
   "cell_type": "code",
   "execution_count": 124,
   "id": "98de8489-b8c1-43d2-a50a-eca9b4d37408",
   "metadata": {
    "tags": []
   },
   "outputs": [
    {
     "name": "stdout",
     "output_type": "stream",
     "text": [
      "Hay encharcamiento y ocurre a las 0.99 hr\n",
      "La precipitación efectiva es 3.81 mm\n"
     ]
    }
   ],
   "source": [
    "model_GA = green_ampt_implicit()\n",
    "\n",
    "model_GA.K = K\n",
    "model_GA.psi_f = psi_f\n",
    "model_GA.phi = phi\n",
    "model_GA.theta_i = theta_i\n",
    "model_GA.tspan = [0, Tw]\n",
    "model_GA.w = w\n",
    "model_GA.dt = 0.01\n",
    "\n",
    "out_GA= model_GA.solve()\n",
    "\n",
    "# Precipitación efectiva\n",
    "P = w * Tw\n",
    "F = out_GA['F'][-1]\n",
    "Pe = P - F\n",
    "print(f'La precipitación efectiva es {Pe*10:3.2f} mm')"
   ]
  },
  {
   "cell_type": "markdown",
   "id": "ac1edf6c-a373-43f7-b476-e869888fc28a",
   "metadata": {},
   "source": [
    "#### Modelo de Philip"
   ]
  },
  {
   "cell_type": "code",
   "execution_count": 125,
   "id": "db304491-12c4-4660-a0c9-4126ba2ddd96",
   "metadata": {
    "tags": []
   },
   "outputs": [
    {
     "name": "stdout",
     "output_type": "stream",
     "text": [
      "Hay encharcamiento y ocurre a las 1.23 hr\n",
      "La precipitación efectiva es 1.77 mm\n"
     ]
    }
   ],
   "source": [
    "model_P = philip_model()\n",
    "\n",
    "model_P.K = K\n",
    "model_P.Sp = Sp\n",
    "model_P.tspan = [0, Tw]\n",
    "model_P.w = w\n",
    "model_P.dt = 0.01\n",
    "\n",
    "out_P= model_P.solve()\n",
    "\n",
    "# Precipitación efectiva\n",
    "P = w * Tw\n",
    "F = out_P['F'][-1]\n",
    "Pe = P - F\n",
    "print(f'La precipitación efectiva es {Pe*10:3.2f} mm')"
   ]
  },
  {
   "cell_type": "code",
   "execution_count": 115,
   "id": "ffb6ad5e-446d-460e-b1d1-2ab9c0c30280",
   "metadata": {
    "tags": []
   },
   "outputs": [
    {
     "data": {
      "image/png": "[encoded data removed]",
      "text/plain": [
       "<Figure size 640x480 with 1 Axes>"
      ]
     },
     "metadata": {},
     "output_type": "display_data"
    }
   ],
   "source": [
    "plt.plot(out_GA.get('t'), out_GA.get('f'), label='Green-Ampt')\n",
    "plt.plot(out_P.get('t'), out_P.get('f'), label='Philip')\n",
    "plt.ylim([0, 2.5])\n",
    "plt.ylabel('Tasa de infiltración (cm/hr)')\n",
    "plt.xlabel('Tiempo (hr)')\n",
    "plt.legend()\n",
    "plt.show()"
   ]
  },
  {
   "cell_type": "markdown",
   "id": "836a54b9-c0a4-4d25-8e10-2aa4341caf6a",
   "metadata": {},
   "source": [
    "### Abstracciones utilizando ecuaciones de infiltración\n",
    "\n",
    "En la sección anterior, se presentaron ecuaciones de infiltración ampliamente utilizadas en modelación en hidrología, y se calculó la precipitación efectiva suponiendo un evento de precipitación con intensidad constante. A continuación, se presenta el procedimiento para cacular la precipitación efectiva para un evento con intensidad variable.\n",
    "\n",
    "#### Procedimiento\n",
    "\n",
    "El tiempo de encharcamiento se determina para cada intervalo de tiempo en el hietograma de precipitación. Hay tres casos:\n",
    "\n",
    "1. **Caso 1:** El encharcamiento ocurre dentro del intervalo\n",
    "2. **Caso 2:** No existe encharcamiento dentro del intervalo\n",
    "3. **Caso 3:** El encharcamiento empieza en algún momento del intervalo\n",
    "\n",
    "Como la tasa de infiltración siempre está descendiendo o permanece constante en el tiempo, una vez inicie el encharcamiento, éste continuará. Considerando el modelode Green-Ampt, para cada intervalo se debe hacer lo siguiente:\n",
    "\n",
    "1. Paso 1: Calcular la tasa de infiltración potencial $f^*(t)$ dado un valor inicial (o anterior) de $F(t)$:\n",
    "\n",
    "$$f^*(t)=K\\left[ \\frac {\\lvert \\psi_f \\rvert \\Delta\\theta} {F(t)} + 1\\right]$$\n",
    "\n",
    "2. Paso 2: Comparar $f^*(t)$  con la entrada de agua $w(t)$. Si $f^*(t) < w(t)$, entonces ocurre el **caso 1** (ir al paso 3). En caso contrario, se pueden presentar los **casos 2 o 3** (ir al paso 4). \n",
    "3. Paso 3: Se calcula la infiltración acumulada al final del intervalo $F(t+\\Delta t)$ y se avanza al siguiente intervalo (ir al paso 1):\n",
    "\n",
    "$$F(t+\\Delta t) = F(t) + K \\Delta t + \\lvert \\psi_f \\rvert \\Delta\\theta \\ln {\\left[ \\frac {F(t+\\Delta t) + \\lvert \\psi_f \\rvert \\Delta\\theta} {F(t) + \\lvert \\psi_f \\rvert \\Delta\\theta}\\right]}$$\n",
    "\n",
    "4. Paso 4: Calcular valores tentativos para $F'(t+\\Delta t) = F(t) + w(t)\\Delta t$ y $f'^*(t+\\Delta t)$\n",
    "5. Paso 5: Comparar $f'^*(t+\\Delta t)$ con $w(t)$. Si $f'^*(t+\\Delta t) > w(t)$, entonces no ocurre encharcamiento (**caso 2**, ir al paso 6). Si no, ocurre encharcamiento durante el intervalo (**caso 3**, ir al paso 7).\n",
    "6. Paso 6: Se calcula $F(t+\\Delta t) = F'(t+\\Delta t)$ y se avanza al siguiente intervalo (ir al paso 1).\n",
    "7. Paso 7: Se calcula $F(t_p)$ al establecer $f^*(t) = w(t)$ y $F(t) = F(t_p)$. \n",
    "\n",
    "$$F(t_p) = \\frac {K \\lvert \\psi_f \\rvert \\Delta\\theta} {w(t) - K}$$\n",
    "\n",
    "<center> El tiempo de encharcamiento es entonces $t + \\Delta t'$, donde:</center><br>\n",
    "\n",
    "$$\\Delta t' = \\frac {F(t_p) - F(t)} {w(t)}$$ \n",
    "\n",
    "<center>y $F(t+\\Delta t)$ se calcula estableciendo $F(t) = F(t_p)$ y $\\Delta t = \\Delta t - \\Delta t'$ en la ecuación del paso 3. Avanzar al siguiente intervalo (ir al paso 1). </center><br>\n",
    "\n",
    "La precipitación efectiva (o exceso de precipitación) se calcula restando la infiltración acumulada de la precipitación acumulada y luego tomando diferencias sucesivas de los valores resultantes."
   ]
  },
  {
   "cell_type": "markdown",
   "id": "a6184c04-9c99-4658-942e-be16a1491745",
   "metadata": {},
   "source": [
    "#### Problema 3 - Precipitación efectiva para evento con intensidad variable\n",
    "\n",
    "Con el hietograma de precipitación dado a continuación, determinar el hietograma de exceso de precipitación sabiendo que la lluvia cae en un suelo de marga arenosa (***sandy loam***) con un valor de saturación efectiva inicial del 40%."
   ]
  },
  {
   "cell_type": "code",
   "execution_count": 162,
   "id": "4e631acd-6cde-4d42-8f79-1711102ae4ab",
   "metadata": {
    "tags": []
   },
   "outputs": [
    {
     "data": {
      "image/png": "[encoded data removed]",
      "text/plain": [
       "<Figure size 640x480 with 1 Axes>"
      ]
     },
     "metadata": {},
     "output_type": "display_data"
    }
   ],
   "source": [
    "import pandas as pd\n",
    "import matplotlib.pyplot as plt\n",
    "\n",
    "t = [0,10,20,30,40,50,60,70,80,90,100,110,120,130,140,150,160,170,180] # tiempo (min)\n",
    "p = [0, 0.18, 0.21, 0.26, 0.32, 0.37, 0.43, 0.64, 1.14, 3.18, 1.65, 0.81, 0.52, 0.42, 0.36, 0.28, 0.24, 0.19, 0.17] # precipitación incremental (cm)\n",
    "\n",
    "precip = pd.DataFrame({'t':t, 'p':p})\n",
    "\n",
    "plt.step(precip['t'],precip['p'])\n",
    "plt.xlabel('Tiempo (min)')\n",
    "plt.ylabel('Precipitación (cm)')\n",
    "plt.show()"
   ]
  },
  {
   "cell_type": "markdown",
   "id": "58dca9fa-669e-4615-a365-95067d03ec98",
   "metadata": {},
   "source": [
    "##### Propiedades del suelo"
   ]
  },
  {
   "cell_type": "code",
   "execution_count": 135,
   "id": "257378fe-b7d5-4738-b57f-571e55d9fd04",
   "metadata": {
    "tags": []
   },
   "outputs": [],
   "source": [
    "K = 1.09 # Conductividad hidráulica (cm/hr)\n",
    "psi_f = -11.01 # Tensión efectiva (cm)\n",
    "theta_e = 0.412 # Porosidad efectiva = porosidad - humedad residual\n",
    "s_e = 0.4 # Saturación efectiva\n",
    "\n",
    "delta_theta = (1 - s_e) * theta_e # Déficit de humedad"
   ]
  }
 ],
 "metadata": {
  "kernelspec": {
   "display_name": "Python 3 (ipykernel)",
   "language": "python",
   "name": "python3"
  },
  "language_info": {
   "codemirror_mode": {
    "name": "ipython",
    "version": 3
   },
   "file_extension": ".py",
   "mimetype": "text/x-python",
   "name": "python",
   "nbconvert_exporter": "python",
   "pygments_lexer": "ipython3",
   "version": "3.7.12"
  }
 },
 "nbformat": 4,
 "nbformat_minor": 5
}
