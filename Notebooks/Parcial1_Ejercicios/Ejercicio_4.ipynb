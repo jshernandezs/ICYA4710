{
 "cells": [
  {
   "cell_type": "code",
   "execution_count": 3,
   "id": "124de044-7401-477b-88c7-098150b3ec5a",
   "metadata": {
    "tags": []
   },
   "outputs": [],
   "source": [
    "import numpy as np"
   ]
  },
  {
   "cell_type": "code",
   "execution_count": 4,
   "id": "304ecd23-4a0c-445c-a964-431884df341f",
   "metadata": {
    "tags": []
   },
   "outputs": [],
   "source": [
    "def presion_vapor_sat(T):\n",
    "    if (T>=0):\n",
    "        es = 611 * np.exp(17.27*T/(T + 237.3))\n",
    "    else:\n",
    "        es = 611 * np.exp(21.87*T/(T + 265.5))\n",
    "    return es \n",
    "\n",
    "def presion_vapor(es, RH):\n",
    "    e = RH * es / 100\n",
    "    return e\n",
    "\n",
    "def humedad_absoluta(e, T, Ra = 287):\n",
    "    rho_v = 0.622 * e / (Ra * (T + 273.15))\n",
    "    return rho_v"
   ]
  },
  {
   "cell_type": "code",
   "execution_count": 10,
   "id": "e156105f-3b59-4a3b-a65d-a3a1c0cba7fa",
   "metadata": {
    "tags": []
   },
   "outputs": [
    {
     "name": "stdout",
     "output_type": "stream",
     "text": [
      "La presión de vapor de saturación es 6626.93 Pa, la presión de vapor es 1656.73 Pa, y la humedad absoluta es 0.01154 kg/m3\n"
     ]
    }
   ],
   "source": [
    "T = 38 # temperatura del aire (C)\n",
    "RH = 25 # Humedad relativa (%)\n",
    "\n",
    "es = presion_vapor_sat(T)\n",
    "e = presion_vapor(es, RH)\n",
    "rho_v = humedad_absoluta(e, T)\n",
    "\n",
    "print(f'La presión de vapor de saturación es {es:3.2f} Pa, la presión de vapor es {e:3.2f} Pa, y la humedad absoluta es {rho_v:6.5f} kg/m3')"
   ]
  }
 ],
 "metadata": {
  "kernelspec": {
   "display_name": "Python 3 (ipykernel)",
   "language": "python",
   "name": "python3"
  },
  "language_info": {
   "codemirror_mode": {
    "name": "ipython",
    "version": 3
   },
   "file_extension": ".py",
   "mimetype": "text/x-python",
   "name": "python",
   "nbconvert_exporter": "python",
   "pygments_lexer": "ipython3",
   "version": "3.9.0"
  }
 },
 "nbformat": 4,
 "nbformat_minor": 5
}
