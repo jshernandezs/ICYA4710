{
 "cells": [
  {
   "cell_type": "code",
   "execution_count": 186,
   "id": "d0dd3d67-ce6a-42d5-b6ef-751eaa9d770b",
   "metadata": {
    "tags": []
   },
   "outputs": [],
   "source": [
    "import numpy as np\n",
    "import pandas as pd\n",
    "from scipy.optimize import fsolve\n",
    "import matplotlib.pyplot as plt"
   ]
  },
  {
   "cell_type": "code",
   "execution_count": 187,
   "id": "19a74355-e5bd-4cbe-a4f9-ecd6d724fd6c",
   "metadata": {
    "tags": []
   },
   "outputs": [],
   "source": [
    "def presion_vapor_sat(T):\n",
    "    if (T>=0):\n",
    "        es = 611 * np.exp(17.27*T/(T + 237.3))\n",
    "    else:\n",
    "        es = 611 * np.exp(21.87*T/(T + 265.5))\n",
    "    return es \n",
    "\n",
    "def rel_mezcla(e,p):\n",
    "    return 0.622 * e / p\n",
    "\n",
    "def presion_adiabatica(T, T0, P0, alpha=9.77/1000, g=9.81, R = 287):\n",
    "    P = P0 * ((T + 273.15)/(T0 + 273.15)) ** (g/(alpha * R))\n",
    "    return P\n",
    "\n",
    "def latente(T):\n",
    "    return 2.501 - 0.00236 * T\n",
    "\n",
    "def humedad_absoluta(e, T, Ra = 287):\n",
    "    rho_v = 0.622 * e / (Ra * (T + 273.15))\n",
    "    return rho_v"
   ]
  },
  {
   "cell_type": "markdown",
   "id": "025020cc-3656-49ee-be23-557ee9c988ba",
   "metadata": {},
   "source": [
    "# Problema 6"
   ]
  },
  {
   "cell_type": "markdown",
   "id": "f91a8794-19e4-4d7f-aa2d-dbc35466a9b9",
   "metadata": {},
   "source": [
    "A continuación se determina el nivel de saturación:"
   ]
  },
  {
   "cell_type": "code",
   "execution_count": 188,
   "id": "44f96d2a-3fbc-4d1a-a442-10f6050eda61",
   "metadata": {
    "tags": []
   },
   "outputs": [
    {
     "name": "stdout",
     "output_type": "stream",
     "text": [
      "La relación de mezcla en la superficie es 5.35 g/kg\n",
      "La temperatura de saturación es 3.66 C y la presión de saturación es 92385.47 Pa\n",
      "La presión de vapor de saturación en el nivel de saturación es 794.38 Pa\n",
      "El nivel de saturación es 0.649 km\n"
     ]
    }
   ],
   "source": [
    "T0 = 10 # Temperatura en la superficie (C)\n",
    "RH = 70 # Humedad relativa (%)\n",
    "zt = 1 # Altura máxima (km)\n",
    "dz = 0.03 # Paso de elevación (km)\n",
    "cp = 1005 # Calor específico a presión constante (J/kg K)\n",
    "\n",
    "p0 = 10 ** 5 # Presión en la superficie (Pa)\n",
    "alpha = 9.77 # Tasa de lapso adiabática (C/km)\n",
    "Ra = 287 # Constante de gas de aire húmedo (J/kg K)\n",
    "g = 9.81 # Gravedad (m/s2)\n",
    "\n",
    "e0 = RH * presion_vapor_sat(T0) / 100 # Presión de vapor en la superficie\n",
    "r0 = rel_mezcla(e0, p0) # Relación de mezcla (kg/kg)\n",
    "\n",
    "def func(x, T0, P0, r0, alpha=9.77/1000, g=9.81, Ra=287):\n",
    "    es = presion_vapor_sat(x)\n",
    "    ps = presion_adiabatica(x, T0, P0, alpha, g, Ra)\n",
    "    rs = rel_mezcla(es, ps)\n",
    "    return r0 - rs\n",
    "\n",
    "Tc = fsolve(func, x0 = T0, args=(T0, p0, r0))[0]\n",
    "pc = presion_adiabatica(Tc, T0, p0)\n",
    "es = presion_vapor_sat(Tc)\n",
    "\n",
    "zc = (T0 - Tc) / alpha\n",
    "\n",
    "print(f'La relación de mezcla en la superficie es {r0 * 1000:3.2f} g/kg')\n",
    "print(f'La temperatura de saturación es {Tc:3.2f} C y la presión de saturación es {pc:3.2f} Pa')\n",
    "print(f'La presión de vapor de saturación en el nivel de saturación es {es:3.2f} Pa')\n",
    "print(f'El nivel de saturación es {zc:3.3f} km')"
   ]
  },
  {
   "cell_type": "markdown",
   "id": "cc08977a-1ca6-4381-88f2-c517db13c23b",
   "metadata": {},
   "source": [
    "Ahora se determina la temperatura potencial equivalente para hacer el cálculo de los perfiles de temperatura, presión y relación de mezcla hasta el techo de la montaña:"
   ]
  },
  {
   "cell_type": "code",
   "execution_count": 189,
   "id": "5efc2d98-fad1-442e-9ddb-4e999140212a",
   "metadata": {
    "tags": []
   },
   "outputs": [
    {
     "name": "stdout",
     "output_type": "stream",
     "text": [
      "La temperatura potencial equivalente es 297.05 K\n"
     ]
    }
   ],
   "source": [
    "lh = latente(Tc)\n",
    "theta_e = (T0 + 273.15) * np.exp(lh * 10**6 * r0 / (cp * (Tc + 273.15)))\n",
    "\n",
    "print(f'La temperatura potencial equivalente es {theta_e:3.2f} K')"
   ]
  },
  {
   "cell_type": "markdown",
   "id": "128db511-e8bb-449c-8044-0c4a3b403299",
   "metadata": {},
   "source": [
    "Ahora se calcula la relación de mezcla cada 30m"
   ]
  },
  {
   "cell_type": "code",
   "execution_count": 193,
   "id": "78089af3-7c21-42f0-8e62-f3b432c3d0b5",
   "metadata": {
    "tags": []
   },
   "outputs": [
    {
     "data": {
      "text/html": [
       "<div>\n",
       "<style scoped>\n",
       "    .dataframe tbody tr th:only-of-type {\n",
       "        vertical-align: middle;\n",
       "    }\n",
       "\n",
       "    .dataframe tbody tr th {\n",
       "        vertical-align: top;\n",
       "    }\n",
       "\n",
       "    .dataframe thead th {\n",
       "        text-align: right;\n",
       "    }\n",
       "</style>\n",
       "<table border=\"1\" class=\"dataframe\">\n",
       "  <thead>\n",
       "    <tr style=\"text-align: right;\">\n",
       "      <th></th>\n",
       "      <th>z_km</th>\n",
       "      <th>dr_mm</th>\n",
       "    </tr>\n",
       "  </thead>\n",
       "  <tbody>\n",
       "    <tr>\n",
       "      <th>0</th>\n",
       "      <td>0.67871</td>\n",
       "      <td>0.040230</td>\n",
       "    </tr>\n",
       "    <tr>\n",
       "      <th>1</th>\n",
       "      <td>0.70871</td>\n",
       "      <td>0.040018</td>\n",
       "    </tr>\n",
       "    <tr>\n",
       "      <th>2</th>\n",
       "      <td>0.73871</td>\n",
       "      <td>0.039806</td>\n",
       "    </tr>\n",
       "    <tr>\n",
       "      <th>3</th>\n",
       "      <td>0.76871</td>\n",
       "      <td>0.039595</td>\n",
       "    </tr>\n",
       "    <tr>\n",
       "      <th>4</th>\n",
       "      <td>0.79871</td>\n",
       "      <td>0.039384</td>\n",
       "    </tr>\n",
       "    <tr>\n",
       "      <th>5</th>\n",
       "      <td>0.82871</td>\n",
       "      <td>0.039174</td>\n",
       "    </tr>\n",
       "    <tr>\n",
       "      <th>6</th>\n",
       "      <td>0.85871</td>\n",
       "      <td>0.038964</td>\n",
       "    </tr>\n",
       "    <tr>\n",
       "      <th>7</th>\n",
       "      <td>0.88871</td>\n",
       "      <td>0.038754</td>\n",
       "    </tr>\n",
       "    <tr>\n",
       "      <th>8</th>\n",
       "      <td>0.91871</td>\n",
       "      <td>0.038545</td>\n",
       "    </tr>\n",
       "    <tr>\n",
       "      <th>9</th>\n",
       "      <td>0.94871</td>\n",
       "      <td>0.038336</td>\n",
       "    </tr>\n",
       "    <tr>\n",
       "      <th>10</th>\n",
       "      <td>0.97871</td>\n",
       "      <td>0.038127</td>\n",
       "    </tr>\n",
       "    <tr>\n",
       "      <th>11</th>\n",
       "      <td>1.00000</td>\n",
       "      <td>0.026931</td>\n",
       "    </tr>\n",
       "  </tbody>\n",
       "</table>\n",
       "</div>"
      ],
      "text/plain": [
       "       z_km     dr_mm\n",
       "0   0.67871  0.040230\n",
       "1   0.70871  0.040018\n",
       "2   0.73871  0.039806\n",
       "3   0.76871  0.039595\n",
       "4   0.79871  0.039384\n",
       "5   0.82871  0.039174\n",
       "6   0.85871  0.038964\n",
       "7   0.88871  0.038754\n",
       "8   0.91871  0.038545\n",
       "9   0.94871  0.038336\n",
       "10  0.97871  0.038127\n",
       "11  1.00000  0.026931"
      ]
     },
     "execution_count": 193,
     "metadata": {},
     "output_type": "execute_result"
    }
   ],
   "source": [
    "def func(x, T, theta_e, P0, alpha=9.77/1000, g=9.81, Ra=287, cp = 1005):\n",
    "    lh = latente(T)\n",
    "    es = presion_vapor_sat(T)\n",
    "    rs = rel_mezcla(es, x)\n",
    "    z = theta_e - (T + 273.15)* (P0 / x) ** (Ra * alpha / g) * np.exp(lh * 10**6 * rs / (cp * (T + 273.15)))\n",
    "    return z\n",
    "\n",
    "z = np.arange(zc, zt + dz, dz); z[-1] = zt\n",
    "alpha_s = 5 # tasa de lapso de saturación (C/km)\n",
    "T = P = theta = rs = []\n",
    "\n",
    "for z_i in z:\n",
    "    T_i = Tc - alpha_s * (z_i - zc)\n",
    "    P_i = fsolve(func, x0 = pc, args = (T_i, theta_e, p0))[0]\n",
    "    es_i = presion_vapor_sat(T_i)\n",
    "    rs_i = rel_mezcla(es_i, P_i)\n",
    "    rho_v_i = humedad_absoluta(es_i, T_i)\n",
    "    theta_i = (T_i + 273.15) * (p0/P_i) ** (alpha/1000 * Ra / g)\n",
    "    \n",
    "    T = T + [T_i]\n",
    "    P = P + [P_i]\n",
    "    rs = rs + [rs_i]\n",
    "    theta = theta + [theta_i]\n",
    "\n",
    "# Cálculo de diferencia de relaciones de mezcla de saturación cada 30 m\n",
    "drs = -np.diff(rs) * 1000\n",
    "out = pd.DataFrame(dict(z_km=z[1:], dr_mm = drs))\n",
    "out"
   ]
  },
  {
   "cell_type": "markdown",
   "id": "53cc8165-1170-43b9-b98b-676720975e03",
   "metadata": {},
   "source": [
    "Cuando la masa de aire regresa a la superficie, esta adquiere la temperatura potencial calculada al nivel del techo de la montaña. A contunuación, se calcula la nueva humedad relativa de la masa de aire:"
   ]
  },
  {
   "cell_type": "code",
   "execution_count": 196,
   "id": "de039b4b-5872-4617-b8ee-208f4dc2fecc",
   "metadata": {
    "tags": []
   },
   "outputs": [
    {
     "name": "stdout",
     "output_type": "stream",
     "text": [
      "Los nuevos valores a nivel de superficie para presión de vapor (normal y saturada) son 786.24 Pa y 1318.70 Pa, respectivamente\n",
      "Los nuevos valores a nivel de superficie para temperatura del aire y humedad relativa son 11.06 C y 59.62 %, respectivamente\n"
     ]
    }
   ],
   "source": [
    "rs_t = rs[-1] # relación de mezcla en el techo de la montaña (kg/kg)\n",
    "theta_t = theta[-1] # temperatura potencial en el techo de la montaña (K)\n",
    "t0_nuevo = theta_t - 273.15 # Nueva temperatura de la masa de aire a nivel de superficie\n",
    "es_nuevo = presion_vapor_sat(t0_nuevo) # Nueva presión de vapor de saturación a nivel de superficie (Pa)\n",
    "e_nuevo = p0 * rs_t / 0.622 # Nueva presión de vapor a nivel de superficie (Pa)\n",
    "RH_nuevo = e_nuevo/es_nuevo * 100 # Nueva humedad relativa a nivel de superficie (%)\n",
    "\n",
    "print(f'Los nuevos valores a nivel de superficie para presión de vapor (normal y saturada) son {e_nuevo:3.2f} Pa y {es_nuevo:3.2f} Pa, respectivamente')\n",
    "print(f'Los nuevos valores a nivel de superficie para temperatura del aire y humedad relativa son {t0_nuevo:3.2f} C y {RH_nuevo:3.2f} %, respectivamente')"
   ]
  },
  {
   "cell_type": "markdown",
   "id": "db918e94-0898-4eb1-8b1c-660e42cf5fe0",
   "metadata": {},
   "source": [
    "# Problema 7"
   ]
  },
  {
   "cell_type": "markdown",
   "id": "fdaf8338-894d-4d97-a5cf-44653325966a",
   "metadata": {},
   "source": [
    "Este problema es similar en metodología al problema anterior. No obstante, en lugar de trabajar con las relaciones de mezcla en la superficie y en el nivel de condensación, se usará la relación de humedades relativas entre estos dos niveles."
   ]
  },
  {
   "cell_type": "code",
   "execution_count": 220,
   "id": "033aefa0-d8b5-4b15-a001-2dfac2fc23d7",
   "metadata": {},
   "outputs": [
    {
     "name": "stdout",
     "output_type": "stream",
     "text": [
      "El nivel de condensación es 0.429 km\n"
     ]
    }
   ],
   "source": [
    "RH = 90\n",
    "T0 = 25\n",
    "alpha = 6\n",
    "\n",
    "def func(x, RH, T0, alpha, g=9.81, R=287):\n",
    "    es_c = presion_vapor_sat(T0 - alpha * x)\n",
    "    es0 = presion_vapor_sat(T0)\n",
    "    return 100/RH - ((T0 - alpha * x + 273.15)/(T0 + 273.15))**(g/(R*alpha/1000))*(es0/es_c)\n",
    "\n",
    "zc = fsolve(func, x0 = 10, args=(RH, T0, alpha))[0]\n",
    "print(f'El nivel de condensación es {zc:3.3f} km')"
   ]
  },
  {
   "cell_type": "markdown",
   "id": "fbcd14f2-8ddf-438f-98b6-2001d2bf06af",
   "metadata": {},
   "source": [
    "# Problema 9"
   ]
  },
  {
   "cell_type": "code",
   "execution_count": 181,
   "id": "deac1404-8a09-4e37-9a67-f1dde74c9ea8",
   "metadata": {
    "tags": []
   },
   "outputs": [
    {
     "name": "stdout",
     "output_type": "stream",
     "text": [
      "La intensidad máxima es 10.43 mm/hr\n"
     ]
    }
   ],
   "source": [
    "Tavg = 20\n",
    "Pavg = 85000\n",
    "v = 2\n",
    "H = 500\n",
    "cp = 1005\n",
    "p0 = 10**5\n",
    "dz = 100\n",
    "R = 287\n",
    "rho_w = 1000\n",
    "\n",
    "alpha_s = 5\n",
    "Tc = Tavg + alpha_s * 250/1000\n",
    "Tt = Tc - alpha_s*H/1000\n",
    "\n",
    "def fun2(x, T, theta_e, P0, cp = 1005):\n",
    "    lh = latente(T)\n",
    "    es = presion_vapor_sat(T)\n",
    "    rs = rel_mezcla(es, x)\n",
    "    z = theta_e - (T + 273.15)* (P0 / x) ** 0.286 * np.exp(lh * 10**6 * rs / (cp * (T + 273.15)))\n",
    "    return z\n",
    "    \n",
    "def fun0(x, Tc, p0, H, dz, cp=1005):\n",
    "    \n",
    "    es = presion_vapor_sat(Tc)\n",
    "    r0 = rel_mezcla(es, x)\n",
    "    lh = latente(Tc)\n",
    "    theta_e = (Tc + 273.15) * (p0 / x) ** 0.286 * np.exp(lh * 10 ** 6 * r0 / (cp * (Tc + 273.15)))\n",
    "    \n",
    "    z = np.arange(0, H + dz, dz)\n",
    "    P = []\n",
    "    for z_i in z:\n",
    "        T_i = Tc - alpha_s/1000 * z_i\n",
    "        P_i = fsolve(fun2, x0 = p0, args=(T_i, theta_e, p0))\n",
    "        P = P + [P_i]\n",
    "    \n",
    "    dP = 0\n",
    "    for i, P_i in enumerate(P):\n",
    "        if  i > 0:\n",
    "            dP = dP + (P_i + P[i-1])/2 * dz\n",
    "    \n",
    "    z = Pavg * H - dP\n",
    "    return z\n",
    "    \n",
    "Pc = fsolve(fun0, x0 = p0, args=(Tc, p0, H, dz, cp))[0]\n",
    "es = presion_vapor_sat(Tc)\n",
    "r0 = rel_mezcla(es, Pc)\n",
    "theta_e = (Tc + 273.15) * (p0 / Pc) ** 0.286 * np.exp(lh * 10 ** 6 * r0 / (cp * (Tc + 273.15)))\n",
    "\n",
    "Pt = fsolve(fun2, x0=Pc, args=(Tt, theta_e, p0))[0]\n",
    "es1 = presion_vapor_sat(Tt)\n",
    "r1 = rel_mezcla(es1, Pt)\n",
    "\n",
    "dr = r0 - r1\n",
    "rho_a = Pc/(R * (Tc + 273.15))\n",
    "i = dr * rho_a * v / rho_w * (1000 * 3600)\n",
    "\n",
    "print(f'La intensidad máxima es {i:3.2f} mm/hr')"
   ]
  }
 ],
 "metadata": {
  "kernelspec": {
   "display_name": "Python 3 (ipykernel)",
   "language": "python",
   "name": "python3"
  },
  "language_info": {
   "codemirror_mode": {
    "name": "ipython",
    "version": 3
   },
   "file_extension": ".py",
   "mimetype": "text/x-python",
   "name": "python",
   "nbconvert_exporter": "python",
   "pygments_lexer": "ipython3",
   "version": "3.11.4"
  }
 },
 "nbformat": 4,
 "nbformat_minor": 5
}
