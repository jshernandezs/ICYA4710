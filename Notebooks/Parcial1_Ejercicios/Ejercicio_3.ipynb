{
 "cells": [
  {
   "cell_type": "code",
   "execution_count": 1,
   "id": "4b5a27df-3e78-445b-9e61-1a73baa1d418",
   "metadata": {
    "tags": []
   },
   "outputs": [],
   "source": [
    "import numpy as np\n",
    "import pandas as pd"
   ]
  },
  {
   "cell_type": "code",
   "execution_count": 23,
   "id": "5ff94656-c468-4ce4-946e-2ceb84ffb337",
   "metadata": {
    "tags": []
   },
   "outputs": [],
   "source": [
    "def presion_vapor_sat(T):\n",
    "    if (T>=0):\n",
    "        es = 611 * np.exp(17.27*T/(T + 237.3))\n",
    "    else:\n",
    "        es = 611 * np.exp(21.87*T/(T + 265.5))\n",
    "    return es \n",
    "\n",
    "def latente(T):\n",
    "    return 2.501 - 0.00236 * T"
   ]
  },
  {
   "cell_type": "code",
   "execution_count": 31,
   "id": "c8b9772e-7e45-44cc-9d75-681d84870049",
   "metadata": {
    "tags": []
   },
   "outputs": [
    {
     "data": {
      "text/html": [
       "<div>\n",
       "<style scoped>\n",
       "    .dataframe tbody tr th:only-of-type {\n",
       "        vertical-align: middle;\n",
       "    }\n",
       "\n",
       "    .dataframe tbody tr th {\n",
       "        vertical-align: top;\n",
       "    }\n",
       "\n",
       "    .dataframe thead th {\n",
       "        text-align: right;\n",
       "    }\n",
       "</style>\n",
       "<table border=\"1\" class=\"dataframe\">\n",
       "  <thead>\n",
       "    <tr style=\"text-align: right;\">\n",
       "      <th></th>\n",
       "      <th>u</th>\n",
       "      <th>T</th>\n",
       "      <th>RH</th>\n",
       "      <th>Ts</th>\n",
       "    </tr>\n",
       "  </thead>\n",
       "  <tbody>\n",
       "    <tr>\n",
       "      <th>0</th>\n",
       "      <td>2.4</td>\n",
       "      <td>5.2</td>\n",
       "      <td>100</td>\n",
       "      <td>7.0</td>\n",
       "    </tr>\n",
       "    <tr>\n",
       "      <th>1</th>\n",
       "      <td>1.6</td>\n",
       "      <td>12.2</td>\n",
       "      <td>86</td>\n",
       "      <td>8.0</td>\n",
       "    </tr>\n",
       "    <tr>\n",
       "      <th>2</th>\n",
       "      <td>3.2</td>\n",
       "      <td>19.3</td>\n",
       "      <td>68</td>\n",
       "      <td>15.6</td>\n",
       "    </tr>\n",
       "    <tr>\n",
       "      <th>3</th>\n",
       "      <td>0.5</td>\n",
       "      <td>0.7</td>\n",
       "      <td>40</td>\n",
       "      <td>5.5</td>\n",
       "    </tr>\n",
       "    <tr>\n",
       "      <th>4</th>\n",
       "      <td>5.0</td>\n",
       "      <td>9.9</td>\n",
       "      <td>100</td>\n",
       "      <td>9.9</td>\n",
       "    </tr>\n",
       "  </tbody>\n",
       "</table>\n",
       "</div>"
      ],
      "text/plain": [
       "     u     T   RH    Ts\n",
       "0  2.4   5.2  100   7.0\n",
       "1  1.6  12.2   86   8.0\n",
       "2  3.2  19.3   68  15.6\n",
       "3  0.5   0.7   40   5.5\n",
       "4  5.0   9.9  100   9.9"
      ]
     },
     "execution_count": 31,
     "metadata": {},
     "output_type": "execute_result"
    }
   ],
   "source": [
    "p_a = 100 # Presión (kPa)\n",
    "cp = 1.005e-3 # Calor específico a presión constante (MJ/kgK) \n",
    "Ra = 287 # Constante de gas (J/kgK)\n",
    "k = 0.41 # Constante de von Karman\n",
    "rho_w = 1000 # densidad del agua (kg/m3)\n",
    "\n",
    "zm = 2\n",
    "zd = 0\n",
    "z0 = 10e-5\n",
    "\n",
    "data = {'u': [2.4, 1.6, 3.2, 0.5, 5],\n",
    "        'T': [5.2, 12.2, 19.3, 0.7, 9.9],\n",
    "        'RH': [100, 86, 68, 40, 100],\n",
    "        'Ts': [7, 8, 15.6, 5.5, 9.9]}\n",
    "\n",
    "data = pd.DataFrame(data)\n",
    "data"
   ]
  },
  {
   "cell_type": "markdown",
   "id": "2924ea2d-5f7e-49f2-b223-9ae0b473ec16",
   "metadata": {},
   "source": [
    "### Cálculo de la tasa de evaporación"
   ]
  },
  {
   "cell_type": "code",
   "execution_count": 41,
   "id": "9b679f7d-3e27-4014-be5b-59a8aa5aee71",
   "metadata": {
    "tags": []
   },
   "outputs": [
    {
     "data": {
      "text/html": [
       "<div>\n",
       "<style scoped>\n",
       "    .dataframe tbody tr th:only-of-type {\n",
       "        vertical-align: middle;\n",
       "    }\n",
       "\n",
       "    .dataframe tbody tr th {\n",
       "        vertical-align: top;\n",
       "    }\n",
       "\n",
       "    .dataframe thead th {\n",
       "        text-align: right;\n",
       "    }\n",
       "</style>\n",
       "<table border=\"1\" class=\"dataframe\">\n",
       "  <thead>\n",
       "    <tr style=\"text-align: right;\">\n",
       "      <th></th>\n",
       "      <th>u</th>\n",
       "      <th>T</th>\n",
       "      <th>RH</th>\n",
       "      <th>Ts</th>\n",
       "      <th>E</th>\n",
       "      <th>L</th>\n",
       "      <th>H</th>\n",
       "    </tr>\n",
       "  </thead>\n",
       "  <tbody>\n",
       "    <tr>\n",
       "      <th>0</th>\n",
       "      <td>2.4</td>\n",
       "      <td>5.2</td>\n",
       "      <td>100</td>\n",
       "      <td>7.0</td>\n",
       "      <td>-13.528212</td>\n",
       "      <td>-33.668039</td>\n",
       "      <td>0.033533</td>\n",
       "    </tr>\n",
       "    <tr>\n",
       "      <th>1</th>\n",
       "      <td>1.6</td>\n",
       "      <td>12.2</td>\n",
       "      <td>86</td>\n",
       "      <td>8.0</td>\n",
       "      <td>37.396215</td>\n",
       "      <td>92.451222</td>\n",
       "      <td>-0.050883</td>\n",
       "    </tr>\n",
       "    <tr>\n",
       "      <th>2</th>\n",
       "      <td>3.2</td>\n",
       "      <td>19.3</td>\n",
       "      <td>68</td>\n",
       "      <td>15.6</td>\n",
       "      <td>151.293894</td>\n",
       "      <td>371.494895</td>\n",
       "      <td>-0.087474</td>\n",
       "    </tr>\n",
       "    <tr>\n",
       "      <th>3</th>\n",
       "      <td>0.5</td>\n",
       "      <td>0.7</td>\n",
       "      <td>40</td>\n",
       "      <td>5.5</td>\n",
       "      <td>6.871085</td>\n",
       "      <td>17.173233</td>\n",
       "      <td>0.018935</td>\n",
       "    </tr>\n",
       "    <tr>\n",
       "      <th>4</th>\n",
       "      <td>5.0</td>\n",
       "      <td>9.9</td>\n",
       "      <td>100</td>\n",
       "      <td>9.9</td>\n",
       "      <td>0.000000</td>\n",
       "      <td>0.000000</td>\n",
       "      <td>0.000000</td>\n",
       "    </tr>\n",
       "  </tbody>\n",
       "</table>\n",
       "</div>"
      ],
      "text/plain": [
       "     u     T   RH    Ts           E           L         H\n",
       "0  2.4   5.2  100   7.0  -13.528212  -33.668039  0.033533\n",
       "1  1.6  12.2   86   8.0   37.396215   92.451222 -0.050883\n",
       "2  3.2  19.3   68  15.6  151.293894  371.494895 -0.087474\n",
       "3  0.5   0.7   40   5.5    6.871085   17.173233  0.018935\n",
       "4  5.0   9.9  100   9.9    0.000000    0.000000  0.000000"
      ]
     },
     "execution_count": 41,
     "metadata": {},
     "output_type": "execute_result"
    }
   ],
   "source": [
    "E = L = H = []\n",
    "\n",
    "for i, row in data.iterrows():\n",
    "    u = row['u']\n",
    "    T = row['T']\n",
    "    RH = row['RH']\n",
    "    Ts = row['Ts']\n",
    "    \n",
    "    rho_a = p_a/(Ra * (T + 273.15)) * 1000 # densidad del aire en kg/m3\n",
    "    kE = 0.622 * rho_a / (p_a * rho_w) * (k/np.log((zm - zd)/z0)) ** 2\n",
    "    klE = kE * latente(T) * rho_w\n",
    "    kH = rho_a * cp * (k/np.log((zm - zd)/z0)) ** 2\n",
    "        \n",
    "    es = presion_vapor_sat(T)\n",
    "    e_zm = RH * presion_vapor_sat(Ts)/100\n",
    "        \n",
    "    E = E + [kE * u * (es - e_zm) * 3600 * 1000] # tasa de evaporación (mm/hr)\n",
    "    L = L + [klE * u * (es - e_zm) * 3600] # flujo de calor latente (MJ/hr/m2)\n",
    "    H = H + [kH * u * (Ts - T) * 3600] # flujo de calor sensible (MJ/hr/m2)\n",
    "\n",
    "output = pd.DataFrame(dict(E=E, L=L, H=H))\n",
    "output = pd.concat([data, output], axis=1)\n",
    "output"
   ]
  },
  {
   "cell_type": "markdown",
   "id": "d22a690a-e11d-496e-8ba9-c0950f839455",
   "metadata": {},
   "source": [
    "Los resultados indican que ocurre condensación en el día 1 y que no hay intercambio turbulento en el día 5. Así mismo, durante los días 2 y 3 ocurre flujo de calor sensible desde la atmósfera hacia la superficie (la atmósfera está más caliente que la superficie)."
   ]
  }
 ],
 "metadata": {
  "kernelspec": {
   "display_name": "Python 3 (ipykernel)",
   "language": "python",
   "name": "python3"
  },
  "language_info": {
   "codemirror_mode": {
    "name": "ipython",
    "version": 3
   },
   "file_extension": ".py",
   "mimetype": "text/x-python",
   "name": "python",
   "nbconvert_exporter": "python",
   "pygments_lexer": "ipython3",
   "version": "3.9.0"
  }
 },
 "nbformat": 4,
 "nbformat_minor": 5
}
